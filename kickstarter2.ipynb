{
 "cells": [
  {
   "cell_type": "markdown",
   "metadata": {},
   "source": [
    "# Kickstarter"
   ]
  },
  {
   "cell_type": "markdown",
   "metadata": {},
   "source": [
    "Geting insights using the data <BR />\n",
    "What will make your project at Kickstarter successful?"
   ]
  },
  {
   "cell_type": "markdown",
   "metadata": {},
   "source": [
    "## Import stuff"
   ]
  },
  {
   "cell_type": "code",
   "execution_count": 5,
   "metadata": {},
   "outputs": [],
   "source": [
    "import pandas as pd\n",
    "import numpy as np\n",
    "\n",
    "from matplotlib import pyplot as plt\n",
    "import seaborn as sns\n",
    "\n",
    "plt.style.use('fivethirtyeight')\n",
    "\n",
    "%matplotlib inline"
   ]
  },
  {
   "cell_type": "markdown",
   "metadata": {},
   "source": [
    "## Load the data"
   ]
  },
  {
   "cell_type": "code",
   "execution_count": 6,
   "metadata": {},
   "outputs": [
    {
     "data": {
      "text/html": [
       "<div>\n",
       "<style scoped>\n",
       "    .dataframe tbody tr th:only-of-type {\n",
       "        vertical-align: middle;\n",
       "    }\n",
       "\n",
       "    .dataframe tbody tr th {\n",
       "        vertical-align: top;\n",
       "    }\n",
       "\n",
       "    .dataframe thead th {\n",
       "        text-align: right;\n",
       "    }\n",
       "</style>\n",
       "<table border=\"1\" class=\"dataframe\">\n",
       "  <thead>\n",
       "    <tr style=\"text-align: right;\">\n",
       "      <th></th>\n",
       "      <th>project id</th>\n",
       "      <th>name</th>\n",
       "      <th>url</th>\n",
       "      <th>category</th>\n",
       "      <th>subcategory</th>\n",
       "      <th>city</th>\n",
       "      <th>state</th>\n",
       "      <th>global</th>\n",
       "      <th>status</th>\n",
       "      <th>canceled</th>\n",
       "      <th>...</th>\n",
       "      <th>comments</th>\n",
       "      <th>duration</th>\n",
       "      <th>weekday</th>\n",
       "      <th>weekday_nr</th>\n",
       "      <th>nr_in_month</th>\n",
       "      <th>month</th>\n",
       "      <th>month_nr</th>\n",
       "      <th>year</th>\n",
       "      <th>time</th>\n",
       "      <th>date</th>\n",
       "    </tr>\n",
       "  </thead>\n",
       "  <tbody>\n",
       "    <tr>\n",
       "      <th>0</th>\n",
       "      <td>39409</td>\n",
       "      <td>WHILE THE TREES SLEEP</td>\n",
       "      <td>http://www.kickstarter.com/projects/emiliesaba...</td>\n",
       "      <td>Film_Video</td>\n",
       "      <td>Short Film</td>\n",
       "      <td>Columbia</td>\n",
       "      <td>MO</td>\n",
       "      <td>US</td>\n",
       "      <td>successful</td>\n",
       "      <td>0</td>\n",
       "      <td>...</td>\n",
       "      <td>2</td>\n",
       "      <td>30.00</td>\n",
       "      <td>Fri</td>\n",
       "      <td>5</td>\n",
       "      <td>19</td>\n",
       "      <td>Aug</td>\n",
       "      <td>8</td>\n",
       "      <td>2011</td>\n",
       "      <td>19:28:17 -0000</td>\n",
       "      <td>2011-08-19</td>\n",
       "    </tr>\n",
       "    <tr>\n",
       "      <th>1</th>\n",
       "      <td>126581</td>\n",
       "      <td>Educational Online Trading Card Game</td>\n",
       "      <td>http://www.kickstarter.com/projects/972789543/...</td>\n",
       "      <td>Games</td>\n",
       "      <td>Board_Card Games</td>\n",
       "      <td>Maplewood</td>\n",
       "      <td>NJ</td>\n",
       "      <td>US</td>\n",
       "      <td>failed</td>\n",
       "      <td>0</td>\n",
       "      <td>...</td>\n",
       "      <td>0</td>\n",
       "      <td>47.18</td>\n",
       "      <td>Mon</td>\n",
       "      <td>1</td>\n",
       "      <td>2</td>\n",
       "      <td>Aug</td>\n",
       "      <td>8</td>\n",
       "      <td>2010</td>\n",
       "      <td>03:59:00 -0000</td>\n",
       "      <td>2010-08-02</td>\n",
       "    </tr>\n",
       "    <tr>\n",
       "      <th>2</th>\n",
       "      <td>138119</td>\n",
       "      <td>STRUM</td>\n",
       "      <td>http://www.kickstarter.com/projects/185476022/...</td>\n",
       "      <td>Film_Video</td>\n",
       "      <td>Animation</td>\n",
       "      <td>Los Angeles</td>\n",
       "      <td>CA</td>\n",
       "      <td>US</td>\n",
       "      <td>live</td>\n",
       "      <td>0</td>\n",
       "      <td>...</td>\n",
       "      <td>0</td>\n",
       "      <td>28.00</td>\n",
       "      <td>Fri</td>\n",
       "      <td>5</td>\n",
       "      <td>8</td>\n",
       "      <td>Jun</td>\n",
       "      <td>6</td>\n",
       "      <td>2012</td>\n",
       "      <td>00:00:31 -0000</td>\n",
       "      <td>2012-06-08</td>\n",
       "    </tr>\n",
       "    <tr>\n",
       "      <th>3</th>\n",
       "      <td>237090</td>\n",
       "      <td>GETTING OVER - One son's search to finally kno...</td>\n",
       "      <td>http://www.kickstarter.com/projects/charnick/g...</td>\n",
       "      <td>Film_Video</td>\n",
       "      <td>Documentary</td>\n",
       "      <td>Los Angeles</td>\n",
       "      <td>CA</td>\n",
       "      <td>US</td>\n",
       "      <td>successful</td>\n",
       "      <td>0</td>\n",
       "      <td>...</td>\n",
       "      <td>0</td>\n",
       "      <td>32.22</td>\n",
       "      <td>Sun</td>\n",
       "      <td>7</td>\n",
       "      <td>8</td>\n",
       "      <td>Apr</td>\n",
       "      <td>4</td>\n",
       "      <td>2012</td>\n",
       "      <td>02:14:00 -0000</td>\n",
       "      <td>2012-04-08</td>\n",
       "    </tr>\n",
       "    <tr>\n",
       "      <th>4</th>\n",
       "      <td>246101</td>\n",
       "      <td>The Launch of FlyeGrlRoyalty &amp;quot;The New Nam...</td>\n",
       "      <td>http://www.kickstarter.com/projects/flyegrlroy...</td>\n",
       "      <td>Fashion</td>\n",
       "      <td>Fashion</td>\n",
       "      <td>Novi</td>\n",
       "      <td>MI</td>\n",
       "      <td>US</td>\n",
       "      <td>failed</td>\n",
       "      <td>0</td>\n",
       "      <td>...</td>\n",
       "      <td>0</td>\n",
       "      <td>30.00</td>\n",
       "      <td>Wed</td>\n",
       "      <td>3</td>\n",
       "      <td>1</td>\n",
       "      <td>Jun</td>\n",
       "      <td>6</td>\n",
       "      <td>2011</td>\n",
       "      <td>15:25:39 -0000</td>\n",
       "      <td>2011-06-01</td>\n",
       "    </tr>\n",
       "  </tbody>\n",
       "</table>\n",
       "<p>5 rows × 32 columns</p>\n",
       "</div>"
      ],
      "text/plain": [
       "   project id                                               name  \\\n",
       "0       39409                              WHILE THE TREES SLEEP   \n",
       "1      126581               Educational Online Trading Card Game   \n",
       "2      138119                                              STRUM   \n",
       "3      237090  GETTING OVER - One son's search to finally kno...   \n",
       "4      246101  The Launch of FlyeGrlRoyalty &quot;The New Nam...   \n",
       "\n",
       "                                                 url    category  \\\n",
       "0  http://www.kickstarter.com/projects/emiliesaba...  Film_Video   \n",
       "1  http://www.kickstarter.com/projects/972789543/...       Games   \n",
       "2  http://www.kickstarter.com/projects/185476022/...  Film_Video   \n",
       "3  http://www.kickstarter.com/projects/charnick/g...  Film_Video   \n",
       "4  http://www.kickstarter.com/projects/flyegrlroy...     Fashion   \n",
       "\n",
       "        subcategory         city state global      status  canceled  \\\n",
       "0        Short Film     Columbia    MO     US  successful         0   \n",
       "1  Board_Card Games    Maplewood    NJ     US      failed         0   \n",
       "2         Animation  Los Angeles    CA     US        live         0   \n",
       "3       Documentary  Los Angeles    CA     US  successful         0   \n",
       "4           Fashion         Novi    MI     US      failed         0   \n",
       "\n",
       "      ...      comments  duration  weekday  weekday_nr  nr_in_month  month  \\\n",
       "0     ...             2     30.00      Fri           5           19    Aug   \n",
       "1     ...             0     47.18      Mon           1            2    Aug   \n",
       "2     ...             0     28.00      Fri           5            8    Jun   \n",
       "3     ...             0     32.22      Sun           7            8    Apr   \n",
       "4     ...             0     30.00      Wed           3            1    Jun   \n",
       "\n",
       "   month_nr  year            time        date  \n",
       "0         8  2011  19:28:17 -0000  2011-08-19  \n",
       "1         8  2010  03:59:00 -0000  2010-08-02  \n",
       "2         6  2012  00:00:31 -0000  2012-06-08  \n",
       "3         4  2012  02:14:00 -0000  2012-04-08  \n",
       "4         6  2011  15:25:39 -0000  2011-06-01  \n",
       "\n",
       "[5 rows x 32 columns]"
      ]
     },
     "execution_count": 6,
     "metadata": {},
     "output_type": "execute_result"
    }
   ],
   "source": [
    "data = pd.read_csv('./clean_data.csv')\n",
    "data.head()"
   ]
  },
  {
   "cell_type": "code",
   "execution_count": null,
   "metadata": {},
   "outputs": [],
   "source": []
  },
  {
   "cell_type": "code",
   "execution_count": null,
   "metadata": {},
   "outputs": [],
   "source": [
    "### Fail rate and sucess rate per state (brute force solution)"
   ]
  },
  {
   "cell_type": "code",
   "execution_count": null,
   "metadata": {},
   "outputs": [],
   "source": [
    "apelsin = data2.groupby('state').sum()\n",
    "apelsin.head()"
   ]
  },
  {
   "cell_type": "code",
   "execution_count": null,
   "metadata": {},
   "outputs": [],
   "source": [
    "apelsin = apelsin.drop(['project id','goal','pledged','funded percentage','duration','backers','levels',\n",
    "                       'updates','comments','weekday_nr','nr_in_month','month_nr','year'], axis=1)\n",
    "apelsin.head()"
   ]
  },
  {
   "cell_type": "code",
   "execution_count": null,
   "metadata": {},
   "outputs": [],
   "source": [
    "apelsin['sum'] = apelsin['canceled'] + apelsin['failed'] + apelsin['live'] + apelsin['successful'] + apelsin['suspended']\n",
    "apelsin.head()"
   ]
  },
  {
   "cell_type": "code",
   "execution_count": null,
   "metadata": {},
   "outputs": [],
   "source": [
    "apelsin['success rate'] = apelsin['successful'] / apelsin['sum']\n",
    "apelsin['fail rate'] = apelsin['failed'] / apelsin['sum']\n",
    "apelsin.head()"
   ]
  },
  {
   "cell_type": "code",
   "execution_count": null,
   "metadata": {},
   "outputs": [],
   "source": []
  },
  {
   "cell_type": "markdown",
   "metadata": {
    "collapsed": true
   },
   "source": [
    "## Was the initial findings in themself correct?"
   ]
  },
  {
   "cell_type": "markdown",
   "metadata": {},
   "source": [
    "#### Best lenght for compaign?\n",
    "more then $6,000 - 35 days\n",
    "\n",
    "less then $6,000 - a shorter duration is better"
   ]
  },
  {
   "cell_type": "markdown",
   "metadata": {},
   "source": [
    "#### Different pledge goals at low and high amonts\n",
    "But for both intervals a low pledge seem to me more successful. (No surprise)"
   ]
  },
  {
   "cell_type": "markdown",
   "metadata": {},
   "source": [
    "#### Some types of campaign are more successful than others\n",
    "<u>Category</u>\n",
    "\n",
    "Dance, theater, music (most successfull)\n",
    "\n",
    "Fashion, publishing, technology (fashion is by far least successfull)\n",
    "\n",
    "\n",
    "<u>Sub categorys of the Music category</u>\n",
    "\n",
    "Indie rock, country & folk, jazz, Classical music (most successfull)\n",
    "\n",
    "Hip hop, electronic music, world music (Hip hop is by far least successfull)\n",
    "\n",
    "\n",
    "#### When to launch?\n",
    "\n",
    "Month: February\n",
    "\n",
    "Day: Monday\n",
    "\n",
    "Time: 9:00 am (EST)\n",
    "\n",
    "(The variables was studied individually, this means that a Monday in February at 9:00 am might not necessarily be the best time.)\n",
    "\n",
    "#### More comments, more success\n",
    "\n",
    "Dubble the successrate with 1-2 comments\n",
    "\n",
    "Tripple the successrate with 10 comments"
   ]
  },
  {
   "cell_type": "code",
   "execution_count": null,
   "metadata": {},
   "outputs": [],
   "source": []
  }
 ],
 "metadata": {
  "kernelspec": {
   "display_name": "Python 3",
   "language": "python",
   "name": "python3"
  },
  "language_info": {
   "codemirror_mode": {
    "name": "ipython",
    "version": 3
   },
   "file_extension": ".py",
   "mimetype": "text/x-python",
   "name": "python",
   "nbconvert_exporter": "python",
   "pygments_lexer": "ipython3",
   "version": "3.7.1"
  }
 },
 "nbformat": 4,
 "nbformat_minor": 2
}
