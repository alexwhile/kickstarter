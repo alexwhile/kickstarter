{
 "cells": [
  {
   "cell_type": "markdown",
   "metadata": {},
   "source": [
    "# Kickstarter"
   ]
  },
  {
   "cell_type": "markdown",
   "metadata": {},
   "source": [
    "Geting insights using the data <BR />\n",
    "What will make your project at Kickstarter successful?"
   ]
  },
  {
   "cell_type": "markdown",
   "metadata": {},
   "source": [
    "## Import stuff"
   ]
  },
  {
   "cell_type": "code",
   "execution_count": null,
   "metadata": {},
   "outputs": [],
   "source": [
    "import pandas as pd\n",
    "import numpy as np\n",
    "\n",
    "from matplotlib import pyplot as plt\n",
    "import seaborn as sns\n",
    "\n",
    "plt.style.use('fivethirtyeight')\n",
    "\n",
    "%matplotlib inline"
   ]
  },
  {
   "cell_type": "markdown",
   "metadata": {},
   "source": [
    "## Load the data"
   ]
  },
  {
   "cell_type": "code",
   "execution_count": null,
   "metadata": {},
   "outputs": [],
   "source": [
    "# data = pd.read_csv('./DSI_kickstarterscrape_dataset.csv')"
   ]
  },
  {
   "cell_type": "code",
   "execution_count": null,
   "metadata": {},
   "outputs": [],
   "source": []
  },
  {
   "cell_type": "code",
   "execution_count": null,
   "metadata": {},
   "outputs": [],
   "source": [
    "### Fail rate and sucess rate per state (brute force solution)"
   ]
  },
  {
   "cell_type": "code",
   "execution_count": null,
   "metadata": {},
   "outputs": [],
   "source": [
    "apelsin = data2.groupby('state').sum()\n",
    "apelsin.head()"
   ]
  },
  {
   "cell_type": "code",
   "execution_count": null,
   "metadata": {},
   "outputs": [],
   "source": [
    "apelsin = apelsin.drop(['project id','goal','pledged','funded percentage','duration','backers','levels',\n",
    "                       'updates','comments','weekday_nr','nr_in_month','month_nr','year'], axis=1)\n",
    "apelsin.head()"
   ]
  },
  {
   "cell_type": "code",
   "execution_count": null,
   "metadata": {},
   "outputs": [],
   "source": [
    "apelsin['sum'] = apelsin['canceled'] + apelsin['failed'] + apelsin['live'] + apelsin['successful'] + apelsin['suspended']\n",
    "apelsin.head()"
   ]
  },
  {
   "cell_type": "code",
   "execution_count": null,
   "metadata": {},
   "outputs": [],
   "source": [
    "apelsin['success rate'] = apelsin['successful'] / apelsin['sum']\n",
    "apelsin['fail rate'] = apelsin['failed'] / apelsin['sum']\n",
    "apelsin.head()"
   ]
  },
  {
   "cell_type": "code",
   "execution_count": null,
   "metadata": {},
   "outputs": [],
   "source": []
  },
  {
   "cell_type": "markdown",
   "metadata": {
    "collapsed": true
   },
   "source": [
    "## Was the initial findings in themself correct?"
   ]
  },
  {
   "cell_type": "markdown",
   "metadata": {},
   "source": [
    "#### Best lenght for compaign?\n",
    "more then $6,000 - 35 days\n",
    "\n",
    "less then $6,000 - a shorter duration is better"
   ]
  },
  {
   "cell_type": "markdown",
   "metadata": {},
   "source": [
    "#### Different pledge goals at low and high amonts\n",
    "But for both intervals a low pledge seem to me more successful. (No surprise)"
   ]
  },
  {
   "cell_type": "markdown",
   "metadata": {},
   "source": [
    "#### Some types of campaign are more successful than others\n",
    "<u>Category</u>\n",
    "\n",
    "Dance, theater, music (most successfull)\n",
    "\n",
    "Fashion, publishing, technology (fashion is by far least successfull)\n",
    "\n",
    "\n",
    "<u>Sub categorys of the Music category</u>\n",
    "\n",
    "Indie rock, country & folk, jazz, Classical music (most successfull)\n",
    "\n",
    "Hip hop, electronic music, world music (Hip hop is by far least successfull)\n",
    "\n",
    "\n",
    "#### When to launch?\n",
    "\n",
    "Month: February\n",
    "\n",
    "Day: Monday\n",
    "\n",
    "Time: 9:00 am (EST)\n",
    "\n",
    "(The variables was studied individually, this means that a Monday in February at 9:00 am might not necessarily be the best time.)\n",
    "\n",
    "#### More comments, more success\n",
    "\n",
    "Dubble the successrate with 1-2 comments\n",
    "\n",
    "Tripple the successrate with 10 comments"
   ]
  },
  {
   "cell_type": "code",
   "execution_count": null,
   "metadata": {},
   "outputs": [],
   "source": []
  }
 ],
 "metadata": {
  "kernelspec": {
   "display_name": "Python 3",
   "language": "python",
   "name": "python3"
  },
  "language_info": {
   "codemirror_mode": {
    "name": "ipython",
    "version": 3
   },
   "file_extension": ".py",
   "mimetype": "text/x-python",
   "name": "python",
   "nbconvert_exporter": "python",
   "pygments_lexer": "ipython3",
   "version": "3.7.1"
  }
 },
 "nbformat": 4,
 "nbformat_minor": 2
}
