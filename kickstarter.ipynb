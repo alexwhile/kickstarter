{
 "cells": [
  {
   "cell_type": "markdown",
   "metadata": {},
   "source": [
    "# Kickstarter"
   ]
  },
  {
   "cell_type": "markdown",
   "metadata": {},
   "source": [
    "What will make your project at Kickstarter successful?"
   ]
  },
  {
   "cell_type": "markdown",
   "metadata": {},
   "source": [
    "## Import stuff"
   ]
  },
  {
   "cell_type": "code",
   "execution_count": 681,
   "metadata": {},
   "outputs": [],
   "source": [
    "import pandas as pd\n",
    "import numpy as np\n",
    "\n",
    "from matplotlib import pyplot as plt\n",
    "import seaborn as sns\n",
    "\n",
    "plt.style.use('fivethirtyeight')\n",
    "\n",
    "%matplotlib inline"
   ]
  },
  {
   "cell_type": "markdown",
   "metadata": {},
   "source": [
    "## Load the data"
   ]
  },
  {
   "cell_type": "code",
   "execution_count": 682,
   "metadata": {},
   "outputs": [],
   "source": [
    "data = pd.read_csv('./DSI_kickstarterscrape_dataset.csv')"
   ]
  },
  {
   "cell_type": "markdown",
   "metadata": {},
   "source": [
    "## Look at the data"
   ]
  },
  {
   "cell_type": "markdown",
   "metadata": {},
   "source": [
    "### Take an initial look at the data and especially the columns"
   ]
  },
  {
   "cell_type": "code",
   "execution_count": 683,
   "metadata": {},
   "outputs": [
    {
     "data": {
      "text/html": [
       "<div>\n",
       "<style scoped>\n",
       "    .dataframe tbody tr th:only-of-type {\n",
       "        vertical-align: middle;\n",
       "    }\n",
       "\n",
       "    .dataframe tbody tr th {\n",
       "        vertical-align: top;\n",
       "    }\n",
       "\n",
       "    .dataframe thead th {\n",
       "        text-align: right;\n",
       "    }\n",
       "</style>\n",
       "<table border=\"1\" class=\"dataframe\">\n",
       "  <thead>\n",
       "    <tr style=\"text-align: right;\">\n",
       "      <th></th>\n",
       "      <th>project id</th>\n",
       "      <th>name</th>\n",
       "      <th>url</th>\n",
       "      <th>category</th>\n",
       "      <th>subcategory</th>\n",
       "      <th>location</th>\n",
       "      <th>status</th>\n",
       "      <th>goal</th>\n",
       "      <th>pledged</th>\n",
       "      <th>funded percentage</th>\n",
       "      <th>backers</th>\n",
       "      <th>funded date</th>\n",
       "      <th>levels</th>\n",
       "      <th>reward levels</th>\n",
       "      <th>updates</th>\n",
       "      <th>comments</th>\n",
       "      <th>duration</th>\n",
       "    </tr>\n",
       "  </thead>\n",
       "  <tbody>\n",
       "    <tr>\n",
       "      <th>0</th>\n",
       "      <td>39409</td>\n",
       "      <td>WHILE THE TREES SLEEP</td>\n",
       "      <td>http://www.kickstarter.com/projects/emiliesaba...</td>\n",
       "      <td>Film &amp; Video</td>\n",
       "      <td>Short Film</td>\n",
       "      <td>Columbia, MO</td>\n",
       "      <td>successful</td>\n",
       "      <td>10500.0</td>\n",
       "      <td>11545.0</td>\n",
       "      <td>1.099524</td>\n",
       "      <td>66</td>\n",
       "      <td>Fri, 19 Aug 2011 19:28:17 -0000</td>\n",
       "      <td>7</td>\n",
       "      <td>$25,$50,$100,$250,$500,$1,000,$2,500</td>\n",
       "      <td>10</td>\n",
       "      <td>2</td>\n",
       "      <td>30.00</td>\n",
       "    </tr>\n",
       "    <tr>\n",
       "      <th>1</th>\n",
       "      <td>126581</td>\n",
       "      <td>Educational Online Trading Card Game</td>\n",
       "      <td>http://www.kickstarter.com/projects/972789543/...</td>\n",
       "      <td>Games</td>\n",
       "      <td>Board &amp; Card Games</td>\n",
       "      <td>Maplewood, NJ</td>\n",
       "      <td>failed</td>\n",
       "      <td>4000.0</td>\n",
       "      <td>20.0</td>\n",
       "      <td>0.005000</td>\n",
       "      <td>2</td>\n",
       "      <td>Mon, 02 Aug 2010 03:59:00 -0000</td>\n",
       "      <td>5</td>\n",
       "      <td>$1,$5,$10,$25,$50</td>\n",
       "      <td>6</td>\n",
       "      <td>0</td>\n",
       "      <td>47.18</td>\n",
       "    </tr>\n",
       "    <tr>\n",
       "      <th>2</th>\n",
       "      <td>138119</td>\n",
       "      <td>STRUM</td>\n",
       "      <td>http://www.kickstarter.com/projects/185476022/...</td>\n",
       "      <td>Film &amp; Video</td>\n",
       "      <td>Animation</td>\n",
       "      <td>Los Angeles, CA</td>\n",
       "      <td>live</td>\n",
       "      <td>20000.0</td>\n",
       "      <td>56.0</td>\n",
       "      <td>0.002800</td>\n",
       "      <td>3</td>\n",
       "      <td>Fri, 08 Jun 2012 00:00:31 -0000</td>\n",
       "      <td>10</td>\n",
       "      <td>$1,$10,$25,$40,$50,$100,$250,$1,000,$1,337,$9,001</td>\n",
       "      <td>1</td>\n",
       "      <td>0</td>\n",
       "      <td>28.00</td>\n",
       "    </tr>\n",
       "  </tbody>\n",
       "</table>\n",
       "</div>"
      ],
      "text/plain": [
       "   project id                                  name  \\\n",
       "0       39409                 WHILE THE TREES SLEEP   \n",
       "1      126581  Educational Online Trading Card Game   \n",
       "2      138119                                 STRUM   \n",
       "\n",
       "                                                 url      category  \\\n",
       "0  http://www.kickstarter.com/projects/emiliesaba...  Film & Video   \n",
       "1  http://www.kickstarter.com/projects/972789543/...         Games   \n",
       "2  http://www.kickstarter.com/projects/185476022/...  Film & Video   \n",
       "\n",
       "          subcategory         location      status     goal  pledged  \\\n",
       "0          Short Film     Columbia, MO  successful  10500.0  11545.0   \n",
       "1  Board & Card Games    Maplewood, NJ      failed   4000.0     20.0   \n",
       "2           Animation  Los Angeles, CA        live  20000.0     56.0   \n",
       "\n",
       "   funded percentage  backers                      funded date  levels  \\\n",
       "0           1.099524       66  Fri, 19 Aug 2011 19:28:17 -0000       7   \n",
       "1           0.005000        2  Mon, 02 Aug 2010 03:59:00 -0000       5   \n",
       "2           0.002800        3  Fri, 08 Jun 2012 00:00:31 -0000      10   \n",
       "\n",
       "                                       reward levels  updates  comments  \\\n",
       "0               $25,$50,$100,$250,$500,$1,000,$2,500       10         2   \n",
       "1                                  $1,$5,$10,$25,$50        6         0   \n",
       "2  $1,$10,$25,$40,$50,$100,$250,$1,000,$1,337,$9,001        1         0   \n",
       "\n",
       "   duration  \n",
       "0     30.00  \n",
       "1     47.18  \n",
       "2     28.00  "
      ]
     },
     "execution_count": 683,
     "metadata": {},
     "output_type": "execute_result"
    }
   ],
   "source": [
    "data.head(3)"
   ]
  },
  {
   "cell_type": "markdown",
   "metadata": {},
   "source": [
    "### How many rows and columns"
   ]
  },
  {
   "cell_type": "code",
   "execution_count": 684,
   "metadata": {},
   "outputs": [
    {
     "data": {
      "text/plain": [
       "(45957, 17)"
      ]
     },
     "execution_count": 684,
     "metadata": {},
     "output_type": "execute_result"
    }
   ],
   "source": [
    "data.shape"
   ]
  },
  {
   "cell_type": "markdown",
   "metadata": {},
   "source": [
    "### Get more info about the data"
   ]
  },
  {
   "cell_type": "code",
   "execution_count": 685,
   "metadata": {},
   "outputs": [
    {
     "name": "stdout",
     "output_type": "stream",
     "text": [
      "<class 'pandas.core.frame.DataFrame'>\n",
      "RangeIndex: 45957 entries, 0 to 45956\n",
      "Data columns (total 17 columns):\n",
      "project id           45957 non-null int64\n",
      "name                 45957 non-null object\n",
      "url                  45957 non-null object\n",
      "category             45957 non-null object\n",
      "subcategory          45957 non-null object\n",
      "location             44635 non-null object\n",
      "status               45957 non-null object\n",
      "goal                 45957 non-null float64\n",
      "pledged              45945 non-null float64\n",
      "funded percentage    45957 non-null float64\n",
      "backers              45957 non-null int64\n",
      "funded date          45957 non-null object\n",
      "levels               45957 non-null int64\n",
      "reward levels        45898 non-null object\n",
      "updates              45957 non-null int64\n",
      "comments             45957 non-null int64\n",
      "duration             45957 non-null float64\n",
      "dtypes: float64(4), int64(5), object(8)\n",
      "memory usage: 6.0+ MB\n"
     ]
    }
   ],
   "source": [
    "data.info()"
   ]
  },
  {
   "cell_type": "markdown",
   "metadata": {},
   "source": [
    "### Get more info about missing data"
   ]
  },
  {
   "cell_type": "code",
   "execution_count": 686,
   "metadata": {},
   "outputs": [
    {
     "data": {
      "text/plain": [
       "project id              0\n",
       "name                    0\n",
       "url                     0\n",
       "category                0\n",
       "subcategory             0\n",
       "location             1322\n",
       "status                  0\n",
       "goal                    0\n",
       "pledged                12\n",
       "funded percentage       0\n",
       "backers                 0\n",
       "funded date             0\n",
       "levels                  0\n",
       "reward levels          59\n",
       "updates                 0\n",
       "comments                0\n",
       "duration                0\n",
       "dtype: int64"
      ]
     },
     "execution_count": 686,
     "metadata": {},
     "output_type": "execute_result"
    }
   ],
   "source": [
    "data.isnull().sum()"
   ]
  },
  {
   "cell_type": "markdown",
   "metadata": {},
   "source": [
    "### Look for duplicates"
   ]
  },
  {
   "cell_type": "code",
   "execution_count": 687,
   "metadata": {},
   "outputs": [
    {
     "data": {
      "text/plain": [
       "89"
      ]
     },
     "execution_count": 687,
     "metadata": {},
     "output_type": "execute_result"
    }
   ],
   "source": [
    "data.duplicated().sum()"
   ]
  },
  {
   "cell_type": "markdown",
   "metadata": {},
   "source": [
    "### Get statistical info about the data \n",
    "(might need to be redone after other things are fixed with the data). <BR />Here we can also see signs of outliers...will check this later."
   ]
  },
  {
   "cell_type": "code",
   "execution_count": 688,
   "metadata": {},
   "outputs": [
    {
     "data": {
      "text/html": [
       "<div>\n",
       "<style scoped>\n",
       "    .dataframe tbody tr th:only-of-type {\n",
       "        vertical-align: middle;\n",
       "    }\n",
       "\n",
       "    .dataframe tbody tr th {\n",
       "        vertical-align: top;\n",
       "    }\n",
       "\n",
       "    .dataframe thead th {\n",
       "        text-align: right;\n",
       "    }\n",
       "</style>\n",
       "<table border=\"1\" class=\"dataframe\">\n",
       "  <thead>\n",
       "    <tr style=\"text-align: right;\">\n",
       "      <th></th>\n",
       "      <th>project id</th>\n",
       "      <th>goal</th>\n",
       "      <th>pledged</th>\n",
       "      <th>funded percentage</th>\n",
       "      <th>backers</th>\n",
       "      <th>levels</th>\n",
       "      <th>updates</th>\n",
       "      <th>comments</th>\n",
       "      <th>duration</th>\n",
       "    </tr>\n",
       "  </thead>\n",
       "  <tbody>\n",
       "    <tr>\n",
       "      <th>count</th>\n",
       "      <td>4.595700e+04</td>\n",
       "      <td>4.595700e+04</td>\n",
       "      <td>4.594500e+04</td>\n",
       "      <td>45957.000000</td>\n",
       "      <td>45957.000000</td>\n",
       "      <td>45957.000000</td>\n",
       "      <td>45957.00000</td>\n",
       "      <td>45957.000000</td>\n",
       "      <td>45957.000000</td>\n",
       "    </tr>\n",
       "    <tr>\n",
       "      <th>mean</th>\n",
       "      <td>1.080800e+09</td>\n",
       "      <td>1.194271e+04</td>\n",
       "      <td>4.980750e+03</td>\n",
       "      <td>1.850129</td>\n",
       "      <td>69.973192</td>\n",
       "      <td>8.004939</td>\n",
       "      <td>4.08508</td>\n",
       "      <td>8.379529</td>\n",
       "      <td>39.995547</td>\n",
       "    </tr>\n",
       "    <tr>\n",
       "      <th>std</th>\n",
       "      <td>6.218057e+08</td>\n",
       "      <td>1.887583e+05</td>\n",
       "      <td>5.674162e+04</td>\n",
       "      <td>88.492706</td>\n",
       "      <td>688.628479</td>\n",
       "      <td>4.233907</td>\n",
       "      <td>6.43922</td>\n",
       "      <td>174.015737</td>\n",
       "      <td>17.414458</td>\n",
       "    </tr>\n",
       "    <tr>\n",
       "      <th>min</th>\n",
       "      <td>3.940900e+04</td>\n",
       "      <td>1.000000e-02</td>\n",
       "      <td>0.000000e+00</td>\n",
       "      <td>0.000000</td>\n",
       "      <td>0.000000</td>\n",
       "      <td>0.000000</td>\n",
       "      <td>0.00000</td>\n",
       "      <td>0.000000</td>\n",
       "      <td>1.000000</td>\n",
       "    </tr>\n",
       "    <tr>\n",
       "      <th>25%</th>\n",
       "      <td>5.438962e+08</td>\n",
       "      <td>1.800000e+03</td>\n",
       "      <td>1.960000e+02</td>\n",
       "      <td>0.044000</td>\n",
       "      <td>5.000000</td>\n",
       "      <td>5.000000</td>\n",
       "      <td>0.00000</td>\n",
       "      <td>0.000000</td>\n",
       "      <td>30.000000</td>\n",
       "    </tr>\n",
       "    <tr>\n",
       "      <th>50%</th>\n",
       "      <td>1.078345e+09</td>\n",
       "      <td>4.000000e+03</td>\n",
       "      <td>1.310000e+03</td>\n",
       "      <td>1.000000</td>\n",
       "      <td>23.000000</td>\n",
       "      <td>7.000000</td>\n",
       "      <td>2.00000</td>\n",
       "      <td>0.000000</td>\n",
       "      <td>32.000000</td>\n",
       "    </tr>\n",
       "    <tr>\n",
       "      <th>75%</th>\n",
       "      <td>1.621596e+09</td>\n",
       "      <td>9.862000e+03</td>\n",
       "      <td>4.165000e+03</td>\n",
       "      <td>1.115640</td>\n",
       "      <td>59.000000</td>\n",
       "      <td>10.000000</td>\n",
       "      <td>6.00000</td>\n",
       "      <td>3.000000</td>\n",
       "      <td>48.390000</td>\n",
       "    </tr>\n",
       "    <tr>\n",
       "      <th>max</th>\n",
       "      <td>2.147460e+09</td>\n",
       "      <td>2.147484e+07</td>\n",
       "      <td>1.026684e+07</td>\n",
       "      <td>15066.000000</td>\n",
       "      <td>87142.000000</td>\n",
       "      <td>80.000000</td>\n",
       "      <td>149.00000</td>\n",
       "      <td>19311.000000</td>\n",
       "      <td>91.960000</td>\n",
       "    </tr>\n",
       "  </tbody>\n",
       "</table>\n",
       "</div>"
      ],
      "text/plain": [
       "         project id          goal       pledged  funded percentage  \\\n",
       "count  4.595700e+04  4.595700e+04  4.594500e+04       45957.000000   \n",
       "mean   1.080800e+09  1.194271e+04  4.980750e+03           1.850129   \n",
       "std    6.218057e+08  1.887583e+05  5.674162e+04          88.492706   \n",
       "min    3.940900e+04  1.000000e-02  0.000000e+00           0.000000   \n",
       "25%    5.438962e+08  1.800000e+03  1.960000e+02           0.044000   \n",
       "50%    1.078345e+09  4.000000e+03  1.310000e+03           1.000000   \n",
       "75%    1.621596e+09  9.862000e+03  4.165000e+03           1.115640   \n",
       "max    2.147460e+09  2.147484e+07  1.026684e+07       15066.000000   \n",
       "\n",
       "            backers        levels      updates      comments      duration  \n",
       "count  45957.000000  45957.000000  45957.00000  45957.000000  45957.000000  \n",
       "mean      69.973192      8.004939      4.08508      8.379529     39.995547  \n",
       "std      688.628479      4.233907      6.43922    174.015737     17.414458  \n",
       "min        0.000000      0.000000      0.00000      0.000000      1.000000  \n",
       "25%        5.000000      5.000000      0.00000      0.000000     30.000000  \n",
       "50%       23.000000      7.000000      2.00000      0.000000     32.000000  \n",
       "75%       59.000000     10.000000      6.00000      3.000000     48.390000  \n",
       "max    87142.000000     80.000000    149.00000  19311.000000     91.960000  "
      ]
     },
     "execution_count": 688,
     "metadata": {},
     "output_type": "execute_result"
    }
   ],
   "source": [
    "data.describe()"
   ]
  },
  {
   "cell_type": "markdown",
   "metadata": {},
   "source": [
    "## Work the data (EDA/Munging)"
   ]
  },
  {
   "cell_type": "markdown",
   "metadata": {},
   "source": [
    "### Duplicates"
   ]
  },
  {
   "cell_type": "markdown",
   "metadata": {},
   "source": [
    "#### Drop the 89 duplicated rows"
   ]
  },
  {
   "cell_type": "code",
   "execution_count": 689,
   "metadata": {},
   "outputs": [],
   "source": [
    "data = data.drop_duplicates(subset=None, keep='first')"
   ]
  },
  {
   "cell_type": "markdown",
   "metadata": {},
   "source": [
    "### Missing values"
   ]
  },
  {
   "cell_type": "markdown",
   "metadata": {},
   "source": [
    "#### Drop rows with missing values in pledge column or reward levels column"
   ]
  },
  {
   "cell_type": "code",
   "execution_count": 690,
   "metadata": {},
   "outputs": [],
   "source": [
    "data = data.dropna(axis=0, how='any', thresh=None, subset=['pledged', 'reward levels'], inplace=False)"
   ]
  },
  {
   "cell_type": "markdown",
   "metadata": {},
   "source": [
    "#### Replace missing value in location column with X, X (city, state)"
   ]
  },
  {
   "cell_type": "code",
   "execution_count": 691,
   "metadata": {},
   "outputs": [],
   "source": [
    "data = data.fillna('X, X')"
   ]
  },
  {
   "cell_type": "markdown",
   "metadata": {},
   "source": [
    "### Check for outliers"
   ]
  },
  {
   "cell_type": "code",
   "execution_count": 692,
   "metadata": {},
   "outputs": [
    {
     "data": {
      "text/html": [
       "<div>\n",
       "<style scoped>\n",
       "    .dataframe tbody tr th:only-of-type {\n",
       "        vertical-align: middle;\n",
       "    }\n",
       "\n",
       "    .dataframe tbody tr th {\n",
       "        vertical-align: top;\n",
       "    }\n",
       "\n",
       "    .dataframe thead th {\n",
       "        text-align: right;\n",
       "    }\n",
       "</style>\n",
       "<table border=\"1\" class=\"dataframe\">\n",
       "  <thead>\n",
       "    <tr style=\"text-align: right;\">\n",
       "      <th></th>\n",
       "      <th>project id</th>\n",
       "      <th>goal</th>\n",
       "      <th>pledged</th>\n",
       "      <th>funded percentage</th>\n",
       "      <th>backers</th>\n",
       "      <th>levels</th>\n",
       "      <th>updates</th>\n",
       "      <th>comments</th>\n",
       "      <th>duration</th>\n",
       "    </tr>\n",
       "  </thead>\n",
       "  <tbody>\n",
       "    <tr>\n",
       "      <th>count</th>\n",
       "      <td>4.579700e+04</td>\n",
       "      <td>4.579700e+04</td>\n",
       "      <td>4.579700e+04</td>\n",
       "      <td>45797.000000</td>\n",
       "      <td>45797.000000</td>\n",
       "      <td>45797.000000</td>\n",
       "      <td>45797.000000</td>\n",
       "      <td>45797.000000</td>\n",
       "      <td>45797.000000</td>\n",
       "    </tr>\n",
       "    <tr>\n",
       "      <th>mean</th>\n",
       "      <td>1.078608e+09</td>\n",
       "      <td>1.193550e+04</td>\n",
       "      <td>4.989628e+03</td>\n",
       "      <td>1.629066</td>\n",
       "      <td>69.556783</td>\n",
       "      <td>8.011988</td>\n",
       "      <td>4.086578</td>\n",
       "      <td>8.180055</td>\n",
       "      <td>39.980255</td>\n",
       "    </tr>\n",
       "    <tr>\n",
       "      <th>std</th>\n",
       "      <td>6.206747e+08</td>\n",
       "      <td>1.890659e+05</td>\n",
       "      <td>5.683255e+04</td>\n",
       "      <td>75.324487</td>\n",
       "      <td>688.658472</td>\n",
       "      <td>4.223183</td>\n",
       "      <td>6.441296</td>\n",
       "      <td>171.194596</td>\n",
       "      <td>17.402192</td>\n",
       "    </tr>\n",
       "    <tr>\n",
       "      <th>min</th>\n",
       "      <td>3.940900e+04</td>\n",
       "      <td>5.000000e-01</td>\n",
       "      <td>0.000000e+00</td>\n",
       "      <td>0.000000</td>\n",
       "      <td>0.000000</td>\n",
       "      <td>1.000000</td>\n",
       "      <td>0.000000</td>\n",
       "      <td>0.000000</td>\n",
       "      <td>1.000000</td>\n",
       "    </tr>\n",
       "    <tr>\n",
       "      <th>25%</th>\n",
       "      <td>5.424784e+08</td>\n",
       "      <td>1.800000e+03</td>\n",
       "      <td>2.000000e+02</td>\n",
       "      <td>0.044000</td>\n",
       "      <td>5.000000</td>\n",
       "      <td>5.000000</td>\n",
       "      <td>0.000000</td>\n",
       "      <td>0.000000</td>\n",
       "      <td>30.000000</td>\n",
       "    </tr>\n",
       "    <tr>\n",
       "      <th>50%</th>\n",
       "      <td>1.076062e+09</td>\n",
       "      <td>4.000000e+03</td>\n",
       "      <td>1.315000e+03</td>\n",
       "      <td>1.000000</td>\n",
       "      <td>23.000000</td>\n",
       "      <td>7.000000</td>\n",
       "      <td>2.000000</td>\n",
       "      <td>0.000000</td>\n",
       "      <td>31.980000</td>\n",
       "    </tr>\n",
       "    <tr>\n",
       "      <th>75%</th>\n",
       "      <td>1.618457e+09</td>\n",
       "      <td>9.900000e+03</td>\n",
       "      <td>4.169000e+03</td>\n",
       "      <td>1.115385</td>\n",
       "      <td>60.000000</td>\n",
       "      <td>10.000000</td>\n",
       "      <td>6.000000</td>\n",
       "      <td>3.000000</td>\n",
       "      <td>48.340000</td>\n",
       "    </tr>\n",
       "    <tr>\n",
       "      <th>max</th>\n",
       "      <td>2.147460e+09</td>\n",
       "      <td>2.147484e+07</td>\n",
       "      <td>1.026684e+07</td>\n",
       "      <td>15066.000000</td>\n",
       "      <td>87142.000000</td>\n",
       "      <td>80.000000</td>\n",
       "      <td>149.000000</td>\n",
       "      <td>19311.000000</td>\n",
       "      <td>91.960000</td>\n",
       "    </tr>\n",
       "  </tbody>\n",
       "</table>\n",
       "</div>"
      ],
      "text/plain": [
       "         project id          goal       pledged  funded percentage  \\\n",
       "count  4.579700e+04  4.579700e+04  4.579700e+04       45797.000000   \n",
       "mean   1.078608e+09  1.193550e+04  4.989628e+03           1.629066   \n",
       "std    6.206747e+08  1.890659e+05  5.683255e+04          75.324487   \n",
       "min    3.940900e+04  5.000000e-01  0.000000e+00           0.000000   \n",
       "25%    5.424784e+08  1.800000e+03  2.000000e+02           0.044000   \n",
       "50%    1.076062e+09  4.000000e+03  1.315000e+03           1.000000   \n",
       "75%    1.618457e+09  9.900000e+03  4.169000e+03           1.115385   \n",
       "max    2.147460e+09  2.147484e+07  1.026684e+07       15066.000000   \n",
       "\n",
       "            backers        levels       updates      comments      duration  \n",
       "count  45797.000000  45797.000000  45797.000000  45797.000000  45797.000000  \n",
       "mean      69.556783      8.011988      4.086578      8.180055     39.980255  \n",
       "std      688.658472      4.223183      6.441296    171.194596     17.402192  \n",
       "min        0.000000      1.000000      0.000000      0.000000      1.000000  \n",
       "25%        5.000000      5.000000      0.000000      0.000000     30.000000  \n",
       "50%       23.000000      7.000000      2.000000      0.000000     31.980000  \n",
       "75%       60.000000     10.000000      6.000000      3.000000     48.340000  \n",
       "max    87142.000000     80.000000    149.000000  19311.000000     91.960000  "
      ]
     },
     "execution_count": 692,
     "metadata": {},
     "output_type": "execute_result"
    }
   ],
   "source": [
    "data.describe()"
   ]
  },
  {
   "cell_type": "markdown",
   "metadata": {
    "collapsed": true
   },
   "source": [
    "### Name column: Turn all letters to lower case"
   ]
  },
  {
   "cell_type": "code",
   "execution_count": 693,
   "metadata": {
    "scrolled": true
   },
   "outputs": [
    {
     "data": {
      "text/html": [
       "<div>\n",
       "<style scoped>\n",
       "    .dataframe tbody tr th:only-of-type {\n",
       "        vertical-align: middle;\n",
       "    }\n",
       "\n",
       "    .dataframe tbody tr th {\n",
       "        vertical-align: top;\n",
       "    }\n",
       "\n",
       "    .dataframe thead th {\n",
       "        text-align: right;\n",
       "    }\n",
       "</style>\n",
       "<table border=\"1\" class=\"dataframe\">\n",
       "  <thead>\n",
       "    <tr style=\"text-align: right;\">\n",
       "      <th></th>\n",
       "      <th>project id</th>\n",
       "      <th>name</th>\n",
       "      <th>url</th>\n",
       "      <th>category</th>\n",
       "      <th>subcategory</th>\n",
       "      <th>status</th>\n",
       "      <th>goal</th>\n",
       "      <th>pledged</th>\n",
       "      <th>funded percentage</th>\n",
       "      <th>backers</th>\n",
       "      <th>...</th>\n",
       "      <th>month_nr</th>\n",
       "      <th>date</th>\n",
       "      <th>city</th>\n",
       "      <th>state</th>\n",
       "      <th>canceled</th>\n",
       "      <th>failed</th>\n",
       "      <th>live</th>\n",
       "      <th>successful</th>\n",
       "      <th>suspended</th>\n",
       "      <th>global</th>\n",
       "    </tr>\n",
       "  </thead>\n",
       "  <tbody>\n",
       "    <tr>\n",
       "      <th>0</th>\n",
       "      <td>39409</td>\n",
       "      <td>while the trees sleep</td>\n",
       "      <td>http://www.kickstarter.com/projects/emiliesaba...</td>\n",
       "      <td>Film_Video</td>\n",
       "      <td>Short Film</td>\n",
       "      <td>successful</td>\n",
       "      <td>10500.0</td>\n",
       "      <td>11545.0</td>\n",
       "      <td>1.099524</td>\n",
       "      <td>66</td>\n",
       "      <td>...</td>\n",
       "      <td>8</td>\n",
       "      <td>2011-08-19</td>\n",
       "      <td>Columbia</td>\n",
       "      <td>MO</td>\n",
       "      <td>0</td>\n",
       "      <td>0</td>\n",
       "      <td>0</td>\n",
       "      <td>1</td>\n",
       "      <td>0</td>\n",
       "      <td>US</td>\n",
       "    </tr>\n",
       "    <tr>\n",
       "      <th>1</th>\n",
       "      <td>126581</td>\n",
       "      <td>educational online trading card game</td>\n",
       "      <td>http://www.kickstarter.com/projects/972789543/...</td>\n",
       "      <td>Games</td>\n",
       "      <td>Board_Card Games</td>\n",
       "      <td>failed</td>\n",
       "      <td>4000.0</td>\n",
       "      <td>20.0</td>\n",
       "      <td>0.005000</td>\n",
       "      <td>2</td>\n",
       "      <td>...</td>\n",
       "      <td>8</td>\n",
       "      <td>2010-08-02</td>\n",
       "      <td>Maplewood</td>\n",
       "      <td>NJ</td>\n",
       "      <td>0</td>\n",
       "      <td>1</td>\n",
       "      <td>0</td>\n",
       "      <td>0</td>\n",
       "      <td>0</td>\n",
       "      <td>US</td>\n",
       "    </tr>\n",
       "    <tr>\n",
       "      <th>2</th>\n",
       "      <td>138119</td>\n",
       "      <td>strum</td>\n",
       "      <td>http://www.kickstarter.com/projects/185476022/...</td>\n",
       "      <td>Film_Video</td>\n",
       "      <td>Animation</td>\n",
       "      <td>live</td>\n",
       "      <td>20000.0</td>\n",
       "      <td>56.0</td>\n",
       "      <td>0.002800</td>\n",
       "      <td>3</td>\n",
       "      <td>...</td>\n",
       "      <td>6</td>\n",
       "      <td>2012-06-08</td>\n",
       "      <td>Los Angeles</td>\n",
       "      <td>CA</td>\n",
       "      <td>0</td>\n",
       "      <td>0</td>\n",
       "      <td>1</td>\n",
       "      <td>0</td>\n",
       "      <td>0</td>\n",
       "      <td>US</td>\n",
       "    </tr>\n",
       "  </tbody>\n",
       "</table>\n",
       "<p>3 rows × 32 columns</p>\n",
       "</div>"
      ],
      "text/plain": [
       "   project id                                  name  \\\n",
       "0       39409                 while the trees sleep   \n",
       "1      126581  educational online trading card game   \n",
       "2      138119                                 strum   \n",
       "\n",
       "                                                 url    category  \\\n",
       "0  http://www.kickstarter.com/projects/emiliesaba...  Film_Video   \n",
       "1  http://www.kickstarter.com/projects/972789543/...       Games   \n",
       "2  http://www.kickstarter.com/projects/185476022/...  Film_Video   \n",
       "\n",
       "        subcategory      status     goal  pledged  funded percentage  backers  \\\n",
       "0        Short Film  successful  10500.0  11545.0           1.099524       66   \n",
       "1  Board_Card Games      failed   4000.0     20.0           0.005000        2   \n",
       "2         Animation        live  20000.0     56.0           0.002800        3   \n",
       "\n",
       "    ...   month_nr       date         city  state  canceled  failed live  \\\n",
       "0   ...          8 2011-08-19     Columbia     MO         0       0    0   \n",
       "1   ...          8 2010-08-02    Maplewood     NJ         0       1    0   \n",
       "2   ...          6 2012-06-08  Los Angeles     CA         0       0    1   \n",
       "\n",
       "   successful suspended  global  \n",
       "0           1         0      US  \n",
       "1           0         0      US  \n",
       "2           0         0      US  \n",
       "\n",
       "[3 rows x 32 columns]"
      ]
     },
     "execution_count": 693,
     "metadata": {},
     "output_type": "execute_result"
    }
   ],
   "source": [
    "data2['name'] = data2['name'].str.lower()\n",
    "data2.head(3)"
   ]
  },
  {
   "cell_type": "markdown",
   "metadata": {},
   "source": [
    "### Funded date column: Split column into different columns"
   ]
  },
  {
   "cell_type": "code",
   "execution_count": 694,
   "metadata": {},
   "outputs": [
    {
     "data": {
      "text/plain": [
       "0    Fri, 19 Aug 2011 19:28:17 -0000\n",
       "1    Mon, 02 Aug 2010 03:59:00 -0000\n",
       "2    Fri, 08 Jun 2012 00:00:31 -0000\n",
       "3    Sun, 08 Apr 2012 02:14:00 -0000\n",
       "4    Wed, 01 Jun 2011 15:25:39 -0000\n",
       "Name: funded date, dtype: object"
      ]
     },
     "execution_count": 694,
     "metadata": {},
     "output_type": "execute_result"
    }
   ],
   "source": [
    "data['funded date'].head()"
   ]
  },
  {
   "cell_type": "markdown",
   "metadata": {},
   "source": [
    "### Work the date/time column"
   ]
  },
  {
   "cell_type": "markdown",
   "metadata": {},
   "source": [
    "#### Make new columns (weekday, nr in mothn, month, year, time"
   ]
  },
  {
   "cell_type": "code",
   "execution_count": 695,
   "metadata": {
    "scrolled": true
   },
   "outputs": [],
   "source": [
    "new_date = data['funded date'].str.split(\", \", n=1, expand=True)\n",
    "data[\"weekday\"]= new_date[0] \n",
    "data[\"date\"]= new_date[1] "
   ]
  },
  {
   "cell_type": "code",
   "execution_count": 696,
   "metadata": {},
   "outputs": [],
   "source": [
    "new_date2 = data['date'].str.split(\" \", n=1, expand=True)\n",
    "data[\"nr_in_month\"]= new_date2[0] \n",
    "data[\"date2\"]= new_date2[1] "
   ]
  },
  {
   "cell_type": "code",
   "execution_count": 697,
   "metadata": {},
   "outputs": [],
   "source": [
    "new_date3 = data['date2'].str.split(\" \", n=1, expand=True)\n",
    "data[\"month\"]= new_date3[0] \n",
    "data[\"date3\"]= new_date3[1] "
   ]
  },
  {
   "cell_type": "code",
   "execution_count": 698,
   "metadata": {},
   "outputs": [],
   "source": [
    "new_date4 = data['date3'].str.split(\" \", n=1, expand=True)\n",
    "data[\"year\"]= new_date4[0] \n",
    "data[\"time\"]= new_date4[1] "
   ]
  },
  {
   "cell_type": "code",
   "execution_count": 699,
   "metadata": {},
   "outputs": [],
   "source": [
    "# remove columns not needed\n",
    "data = data.drop(['date', 'date2', 'date3'], axis=1)"
   ]
  },
  {
   "cell_type": "markdown",
   "metadata": {},
   "source": [
    "#### Make column for number of day in week (1 = monday, 2 = tuesday etc.)"
   ]
  },
  {
   "cell_type": "code",
   "execution_count": 700,
   "metadata": {},
   "outputs": [],
   "source": [
    "data['weekday_nr'] = data['weekday'].replace({'Mon': 1, 'Tue': 2, 'Wed': 3, 'Thu': 4, 'Fri': 5, 'Sat': 6, 'Sun':7})"
   ]
  },
  {
   "cell_type": "markdown",
   "metadata": {},
   "source": [
    "#### Make month column to number (1 = jan, 2 = feb etc.)"
   ]
  },
  {
   "cell_type": "code",
   "execution_count": 701,
   "metadata": {},
   "outputs": [],
   "source": [
    "data['month_nr'] = data['month'].replace({'Jan': '01', 'Feb': '02', 'Mar': '03', 'Apr': '04', 'May': '05', \n",
    "                                          'Jun': '06', 'Jul':'07', 'Aug': '08', 'Sep': '09', 'Oct': '10', \n",
    "                                          'Nov': '11', 'Dec': '12'})"
   ]
  },
  {
   "cell_type": "markdown",
   "metadata": {},
   "source": [
    "#### Combind day_nr, month_nr and year to new date column"
   ]
  },
  {
   "cell_type": "code",
   "execution_count": 702,
   "metadata": {},
   "outputs": [
    {
     "data": {
      "text/html": [
       "<div>\n",
       "<style scoped>\n",
       "    .dataframe tbody tr th:only-of-type {\n",
       "        vertical-align: middle;\n",
       "    }\n",
       "\n",
       "    .dataframe tbody tr th {\n",
       "        vertical-align: top;\n",
       "    }\n",
       "\n",
       "    .dataframe thead th {\n",
       "        text-align: right;\n",
       "    }\n",
       "</style>\n",
       "<table border=\"1\" class=\"dataframe\">\n",
       "  <thead>\n",
       "    <tr style=\"text-align: right;\">\n",
       "      <th></th>\n",
       "      <th>project id</th>\n",
       "      <th>name</th>\n",
       "      <th>url</th>\n",
       "      <th>category</th>\n",
       "      <th>subcategory</th>\n",
       "      <th>location</th>\n",
       "      <th>status</th>\n",
       "      <th>goal</th>\n",
       "      <th>pledged</th>\n",
       "      <th>funded percentage</th>\n",
       "      <th>...</th>\n",
       "      <th>comments</th>\n",
       "      <th>duration</th>\n",
       "      <th>weekday</th>\n",
       "      <th>nr_in_month</th>\n",
       "      <th>month</th>\n",
       "      <th>year</th>\n",
       "      <th>time</th>\n",
       "      <th>weekday_nr</th>\n",
       "      <th>month_nr</th>\n",
       "      <th>date</th>\n",
       "    </tr>\n",
       "  </thead>\n",
       "  <tbody>\n",
       "    <tr>\n",
       "      <th>0</th>\n",
       "      <td>39409</td>\n",
       "      <td>WHILE THE TREES SLEEP</td>\n",
       "      <td>http://www.kickstarter.com/projects/emiliesaba...</td>\n",
       "      <td>Film &amp; Video</td>\n",
       "      <td>Short Film</td>\n",
       "      <td>Columbia, MO</td>\n",
       "      <td>successful</td>\n",
       "      <td>10500.0</td>\n",
       "      <td>11545.0</td>\n",
       "      <td>1.099524</td>\n",
       "      <td>...</td>\n",
       "      <td>2</td>\n",
       "      <td>30.00</td>\n",
       "      <td>Fri</td>\n",
       "      <td>19</td>\n",
       "      <td>Aug</td>\n",
       "      <td>2011</td>\n",
       "      <td>19:28:17 -0000</td>\n",
       "      <td>5</td>\n",
       "      <td>08</td>\n",
       "      <td>08/19/2011</td>\n",
       "    </tr>\n",
       "    <tr>\n",
       "      <th>1</th>\n",
       "      <td>126581</td>\n",
       "      <td>Educational Online Trading Card Game</td>\n",
       "      <td>http://www.kickstarter.com/projects/972789543/...</td>\n",
       "      <td>Games</td>\n",
       "      <td>Board &amp; Card Games</td>\n",
       "      <td>Maplewood, NJ</td>\n",
       "      <td>failed</td>\n",
       "      <td>4000.0</td>\n",
       "      <td>20.0</td>\n",
       "      <td>0.005000</td>\n",
       "      <td>...</td>\n",
       "      <td>0</td>\n",
       "      <td>47.18</td>\n",
       "      <td>Mon</td>\n",
       "      <td>02</td>\n",
       "      <td>Aug</td>\n",
       "      <td>2010</td>\n",
       "      <td>03:59:00 -0000</td>\n",
       "      <td>1</td>\n",
       "      <td>08</td>\n",
       "      <td>08/02/2010</td>\n",
       "    </tr>\n",
       "    <tr>\n",
       "      <th>2</th>\n",
       "      <td>138119</td>\n",
       "      <td>STRUM</td>\n",
       "      <td>http://www.kickstarter.com/projects/185476022/...</td>\n",
       "      <td>Film &amp; Video</td>\n",
       "      <td>Animation</td>\n",
       "      <td>Los Angeles, CA</td>\n",
       "      <td>live</td>\n",
       "      <td>20000.0</td>\n",
       "      <td>56.0</td>\n",
       "      <td>0.002800</td>\n",
       "      <td>...</td>\n",
       "      <td>0</td>\n",
       "      <td>28.00</td>\n",
       "      <td>Fri</td>\n",
       "      <td>08</td>\n",
       "      <td>Jun</td>\n",
       "      <td>2012</td>\n",
       "      <td>00:00:31 -0000</td>\n",
       "      <td>5</td>\n",
       "      <td>06</td>\n",
       "      <td>06/08/2012</td>\n",
       "    </tr>\n",
       "  </tbody>\n",
       "</table>\n",
       "<p>3 rows × 25 columns</p>\n",
       "</div>"
      ],
      "text/plain": [
       "   project id                                  name  \\\n",
       "0       39409                 WHILE THE TREES SLEEP   \n",
       "1      126581  Educational Online Trading Card Game   \n",
       "2      138119                                 STRUM   \n",
       "\n",
       "                                                 url      category  \\\n",
       "0  http://www.kickstarter.com/projects/emiliesaba...  Film & Video   \n",
       "1  http://www.kickstarter.com/projects/972789543/...         Games   \n",
       "2  http://www.kickstarter.com/projects/185476022/...  Film & Video   \n",
       "\n",
       "          subcategory         location      status     goal  pledged  \\\n",
       "0          Short Film     Columbia, MO  successful  10500.0  11545.0   \n",
       "1  Board & Card Games    Maplewood, NJ      failed   4000.0     20.0   \n",
       "2           Animation  Los Angeles, CA        live  20000.0     56.0   \n",
       "\n",
       "   funded percentage     ...      comments duration  weekday nr_in_month  \\\n",
       "0           1.099524     ...             2    30.00      Fri          19   \n",
       "1           0.005000     ...             0    47.18      Mon          02   \n",
       "2           0.002800     ...             0    28.00      Fri          08   \n",
       "\n",
       "   month  year            time weekday_nr month_nr        date  \n",
       "0    Aug  2011  19:28:17 -0000          5       08  08/19/2011  \n",
       "1    Aug  2010  03:59:00 -0000          1       08  08/02/2010  \n",
       "2    Jun  2012  00:00:31 -0000          5       06  06/08/2012  \n",
       "\n",
       "[3 rows x 25 columns]"
      ]
     },
     "execution_count": 702,
     "metadata": {},
     "output_type": "execute_result"
    }
   ],
   "source": [
    "data['date'] = data['month_nr'] + '/' + data['nr_in_month'] + '/' + data['year']\n",
    "\n",
    "data.head(3)"
   ]
  },
  {
   "cell_type": "markdown",
   "metadata": {},
   "source": [
    "#### Make date time format out of date column"
   ]
  },
  {
   "cell_type": "code",
   "execution_count": 703,
   "metadata": {},
   "outputs": [],
   "source": [
    "data['date'] = pd.to_datetime(data['date'], format='%m/%d/%Y')"
   ]
  },
  {
   "cell_type": "code",
   "execution_count": 704,
   "metadata": {},
   "outputs": [],
   "source": [
    "# turn to right format\n",
    "data['nr_in_month'] = pd.to_numeric(data['nr_in_month'])\n",
    "data['year'] = pd.to_numeric(data['year'])\n",
    "data['month_nr'] = pd.to_numeric(data['month_nr'])"
   ]
  },
  {
   "cell_type": "markdown",
   "metadata": {},
   "source": [
    "### Reward level column"
   ]
  },
  {
   "cell_type": "code",
   "execution_count": 705,
   "metadata": {},
   "outputs": [],
   "source": [
    "# remove dollar signs from reward levels\n",
    "data['reward levels'] = data['reward levels'].str.replace('$', '', regex=True)"
   ]
  },
  {
   "cell_type": "code",
   "execution_count": 706,
   "metadata": {},
   "outputs": [],
   "source": [
    "# NOTICE! need to split into differnt cells if I'm using"
   ]
  },
  {
   "cell_type": "markdown",
   "metadata": {},
   "source": [
    "### Location column"
   ]
  },
  {
   "cell_type": "markdown",
   "metadata": {},
   "source": [
    "#### Split location column into 2 new columns (city and state) ...state can also be country"
   ]
  },
  {
   "cell_type": "code",
   "execution_count": 707,
   "metadata": {},
   "outputs": [],
   "source": [
    "new_location = data['location'].str.split(\", \", n=1, expand=True)\n",
    "data[\"city\"]= new_location[0] \n",
    "data[\"state\"]= new_location[1] "
   ]
  },
  {
   "cell_type": "code",
   "execution_count": 708,
   "metadata": {},
   "outputs": [],
   "source": [
    "# remove column not needed\n",
    "data = data.drop(['location'], axis=1)"
   ]
  },
  {
   "cell_type": "markdown",
   "metadata": {},
   "source": [
    "### Status column"
   ]
  },
  {
   "cell_type": "markdown",
   "metadata": {},
   "source": [
    "#### Look at project status on a aggregated level"
   ]
  },
  {
   "cell_type": "code",
   "execution_count": 709,
   "metadata": {},
   "outputs": [
    {
     "data": {
      "text/plain": [
       "status\n",
       "canceled         59\n",
       "failed        18922\n",
       "live           3904\n",
       "successful    22908\n",
       "suspended         4\n",
       "dtype: int64"
      ]
     },
     "execution_count": 709,
     "metadata": {},
     "output_type": "execute_result"
    }
   ],
   "source": [
    "data.groupby('status').size()"
   ]
  },
  {
   "cell_type": "markdown",
   "metadata": {},
   "source": [
    "#### Look at project status on state lavel"
   ]
  },
  {
   "cell_type": "code",
   "execution_count": 710,
   "metadata": {
    "scrolled": true
   },
   "outputs": [
    {
     "data": {
      "text/plain": [
       "state                 status    \n",
       "AK                    canceled        1\n",
       "                      failed         54\n",
       "                      live           13\n",
       "                      successful     41\n",
       "AL                    failed         88\n",
       "                      live           19\n",
       "                      successful     59\n",
       "AR                    failed         54\n",
       "                      live           13\n",
       "                      successful     38\n",
       "AZ                    canceled        3\n",
       "                      failed        319\n",
       "                      live           78\n",
       "                      successful    246\n",
       "Afghanistan           failed          5\n",
       "                      live            2\n",
       "                      successful      9\n",
       "Argent                successful      4\n",
       "Argentina             failed          7\n",
       "                      live            3\n",
       "                      successful     18\n",
       "Armenia               failed          1\n",
       "                      live            1\n",
       "                      successful      3\n",
       "Australia             failed         20\n",
       "                      live            5\n",
       "                      successful     32\n",
       "Austria               failed          9\n",
       "                      successful     10\n",
       "Bahamas               failed          1\n",
       "                                   ... \n",
       "Vanuatu               successful      2\n",
       "Venezuela             failed          2\n",
       "                      live            1\n",
       "                      successful      1\n",
       "Viet Nam              failed          1\n",
       "                      live            1\n",
       "                      successful      3\n",
       "Virgin Islands, U.S.  failed          1\n",
       "                      successful      1\n",
       "Virginia              live            1\n",
       "WA                    canceled        3\n",
       "                      failed        534\n",
       "                      live          150\n",
       "                      successful    733\n",
       "WI                    canceled        1\n",
       "                      failed        168\n",
       "                      live           54\n",
       "                      successful    173\n",
       "WV                    failed         32\n",
       "                      live            3\n",
       "                      successful     33\n",
       "WY                    failed         22\n",
       "                      live            4\n",
       "                      successful      5\n",
       "X                     failed        679\n",
       "                      successful    626\n",
       "Zambia                live            1\n",
       "                      successful      2\n",
       "Zimbabwe              failed          3\n",
       "                      successful      1\n",
       "Length: 495, dtype: int64"
      ]
     },
     "execution_count": 710,
     "metadata": {},
     "output_type": "execute_result"
    }
   ],
   "source": [
    "data.groupby(['state', 'status']).size()"
   ]
  },
  {
   "cell_type": "markdown",
   "metadata": {},
   "source": [
    "#### Make dummies out of staus column"
   ]
  },
  {
   "cell_type": "code",
   "execution_count": 711,
   "metadata": {},
   "outputs": [],
   "source": [
    "status_dummies = pd.get_dummies(data['status'])"
   ]
  },
  {
   "cell_type": "code",
   "execution_count": 712,
   "metadata": {},
   "outputs": [
    {
     "data": {
      "text/html": [
       "<div>\n",
       "<style scoped>\n",
       "    .dataframe tbody tr th:only-of-type {\n",
       "        vertical-align: middle;\n",
       "    }\n",
       "\n",
       "    .dataframe tbody tr th {\n",
       "        vertical-align: top;\n",
       "    }\n",
       "\n",
       "    .dataframe thead th {\n",
       "        text-align: right;\n",
       "    }\n",
       "</style>\n",
       "<table border=\"1\" class=\"dataframe\">\n",
       "  <thead>\n",
       "    <tr style=\"text-align: right;\">\n",
       "      <th></th>\n",
       "      <th>project id</th>\n",
       "      <th>name</th>\n",
       "      <th>url</th>\n",
       "      <th>category</th>\n",
       "      <th>subcategory</th>\n",
       "      <th>status</th>\n",
       "      <th>goal</th>\n",
       "      <th>pledged</th>\n",
       "      <th>funded percentage</th>\n",
       "      <th>backers</th>\n",
       "      <th>...</th>\n",
       "      <th>weekday_nr</th>\n",
       "      <th>month_nr</th>\n",
       "      <th>date</th>\n",
       "      <th>city</th>\n",
       "      <th>state</th>\n",
       "      <th>canceled</th>\n",
       "      <th>failed</th>\n",
       "      <th>live</th>\n",
       "      <th>successful</th>\n",
       "      <th>suspended</th>\n",
       "    </tr>\n",
       "  </thead>\n",
       "  <tbody>\n",
       "    <tr>\n",
       "      <th>0</th>\n",
       "      <td>39409</td>\n",
       "      <td>WHILE THE TREES SLEEP</td>\n",
       "      <td>http://www.kickstarter.com/projects/emiliesaba...</td>\n",
       "      <td>Film &amp; Video</td>\n",
       "      <td>Short Film</td>\n",
       "      <td>successful</td>\n",
       "      <td>10500.0</td>\n",
       "      <td>11545.0</td>\n",
       "      <td>1.099524</td>\n",
       "      <td>66</td>\n",
       "      <td>...</td>\n",
       "      <td>5</td>\n",
       "      <td>8</td>\n",
       "      <td>2011-08-19</td>\n",
       "      <td>Columbia</td>\n",
       "      <td>MO</td>\n",
       "      <td>0</td>\n",
       "      <td>0</td>\n",
       "      <td>0</td>\n",
       "      <td>1</td>\n",
       "      <td>0</td>\n",
       "    </tr>\n",
       "    <tr>\n",
       "      <th>1</th>\n",
       "      <td>126581</td>\n",
       "      <td>Educational Online Trading Card Game</td>\n",
       "      <td>http://www.kickstarter.com/projects/972789543/...</td>\n",
       "      <td>Games</td>\n",
       "      <td>Board &amp; Card Games</td>\n",
       "      <td>failed</td>\n",
       "      <td>4000.0</td>\n",
       "      <td>20.0</td>\n",
       "      <td>0.005000</td>\n",
       "      <td>2</td>\n",
       "      <td>...</td>\n",
       "      <td>1</td>\n",
       "      <td>8</td>\n",
       "      <td>2010-08-02</td>\n",
       "      <td>Maplewood</td>\n",
       "      <td>NJ</td>\n",
       "      <td>0</td>\n",
       "      <td>1</td>\n",
       "      <td>0</td>\n",
       "      <td>0</td>\n",
       "      <td>0</td>\n",
       "    </tr>\n",
       "    <tr>\n",
       "      <th>2</th>\n",
       "      <td>138119</td>\n",
       "      <td>STRUM</td>\n",
       "      <td>http://www.kickstarter.com/projects/185476022/...</td>\n",
       "      <td>Film &amp; Video</td>\n",
       "      <td>Animation</td>\n",
       "      <td>live</td>\n",
       "      <td>20000.0</td>\n",
       "      <td>56.0</td>\n",
       "      <td>0.002800</td>\n",
       "      <td>3</td>\n",
       "      <td>...</td>\n",
       "      <td>5</td>\n",
       "      <td>6</td>\n",
       "      <td>2012-06-08</td>\n",
       "      <td>Los Angeles</td>\n",
       "      <td>CA</td>\n",
       "      <td>0</td>\n",
       "      <td>0</td>\n",
       "      <td>1</td>\n",
       "      <td>0</td>\n",
       "      <td>0</td>\n",
       "    </tr>\n",
       "  </tbody>\n",
       "</table>\n",
       "<p>3 rows × 31 columns</p>\n",
       "</div>"
      ],
      "text/plain": [
       "   project id                                  name  \\\n",
       "0       39409                 WHILE THE TREES SLEEP   \n",
       "1      126581  Educational Online Trading Card Game   \n",
       "2      138119                                 STRUM   \n",
       "\n",
       "                                                 url      category  \\\n",
       "0  http://www.kickstarter.com/projects/emiliesaba...  Film & Video   \n",
       "1  http://www.kickstarter.com/projects/972789543/...         Games   \n",
       "2  http://www.kickstarter.com/projects/185476022/...  Film & Video   \n",
       "\n",
       "          subcategory      status     goal  pledged  funded percentage  \\\n",
       "0          Short Film  successful  10500.0  11545.0           1.099524   \n",
       "1  Board & Card Games      failed   4000.0     20.0           0.005000   \n",
       "2           Animation        live  20000.0     56.0           0.002800   \n",
       "\n",
       "   backers    ...     weekday_nr  month_nr       date         city  state  \\\n",
       "0       66    ...              5         8 2011-08-19     Columbia     MO   \n",
       "1        2    ...              1         8 2010-08-02    Maplewood     NJ   \n",
       "2        3    ...              5         6 2012-06-08  Los Angeles     CA   \n",
       "\n",
       "   canceled failed  live successful  suspended  \n",
       "0         0      0     0          1          0  \n",
       "1         0      1     0          0          0  \n",
       "2         0      0     1          0          0  \n",
       "\n",
       "[3 rows x 31 columns]"
      ]
     },
     "execution_count": 712,
     "metadata": {},
     "output_type": "execute_result"
    }
   ],
   "source": [
    "# add dummies column to df\n",
    "data2 = pd.concat([data, status_dummies], axis=1)\n",
    "data2.head(3)"
   ]
  },
  {
   "cell_type": "markdown",
   "metadata": {},
   "source": [
    "### Make a new column stating if its an international or national project"
   ]
  },
  {
   "cell_type": "code",
   "execution_count": 713,
   "metadata": {
    "scrolled": true
   },
   "outputs": [
    {
     "data": {
      "text/plain": [
       "array(['MO', 'NJ', 'CA', 'MI', 'OR', 'TN', 'IL', 'X', 'NY', 'DC', 'NE',\n",
       "       'ID', 'FL', 'TX', 'CO', 'ME', 'Taiwan', 'IN', 'OH', 'Norway', 'MA',\n",
       "       'MN', 'PA', 'NC', 'WV', 'CT', 'Chile', 'MD', 'HI', 'VA', 'WA',\n",
       "       'AZ', 'OK', 'NV', 'Haiti', 'GA', 'AL', 'UT', 'Canada', 'LA', 'SC',\n",
       "       'Ecuador', 'WI', 'Jamaica', 'Argentina', 'Hong Kong', 'Germany',\n",
       "       'NM', 'Guatemala', 'NH', 'IA', 'WY', 'Australia', 'RI', 'Sweden',\n",
       "       'France', 'DE', 'South Africa', 'AK', 'Nepal', 'MT', 'KY', 'VT',\n",
       "       'Kenya', 'Bosnia and Herzegovina', 'Iceland', 'Mexico', 'KS',\n",
       "       'Hungary', 'Indonesia', 'China', 'SD', 'Cuba', 'Peru', 'Italy',\n",
       "       'Netherlands', 'Singapore', 'Ethiopia', 'New Zealand',\n",
       "       'United Kingdom', 'Austria', 'Turkey', 'AR', 'Mt', 'Congo',\n",
       "       'Colombia', 'India', 'Mongolia', 'MS', 'Israel', 'Dominica',\n",
       "       'Spain', 'Finland', 'Czech Republic', 'Japan',\n",
       "       'Virgin Islands, U.S.', 'Lebanon', 'Armenia', 'Portugal', 'Qatar',\n",
       "       'Morocco', 'Martinique', 'Puerto Rico', 'Afghanistan', 'Denmark',\n",
       "       'Tanzania', 'Kazakhstan', 'Zambia', 'Switzerland', 'Egypt',\n",
       "       'Svalbard and Jan Mayen', 'ND', 'Burkina Faso', 'Liberia', 'Ghana',\n",
       "       'Nicaragua', 'Russia', 'Ukraine', 'Bulgaria', 'South Korea',\n",
       "       'Brazil', 'Rwanda', 'Costa Rica', 'Philippines', 'Pakistan',\n",
       "       'El Salvador', 'Panama', 'United Arab Emirates', 'Romania',\n",
       "       'Honduras', 'Palestinian Territories', 'Poland', 'Georgia',\n",
       "       'Syrian Arab Republic', 'Bolivia', 'Greece', 'Cambodia', 'Nigeria',\n",
       "       'Mali', 'Saudi Arabia', 'Argent', 'Iraq', 'Cameroon', 'Namibia',\n",
       "       'Ireland', 'Venezuela', None, 'Thailand', 'Jordan', 'Tunisia',\n",
       "       'Zimbabwe', 'Iran', 'Sierra Leone', 'Isle of Man',\n",
       "       'Central African Republic', 'Serbia', 'Belize', 'Uganda', 'Malta',\n",
       "       'Slovenia', 'Sudan', 'Belgium', 'Myanmar', 'Malaysia',\n",
       "       'North Korea', 'Greenland', 'Senegal', 'Bahamas', 'Malawi',\n",
       "       'Mozambique', 'Bhutan', 'Lithuania', 'Micronesia',\n",
       "       'Equatorial Guinea', 'Tajikistan', 'Kyoto, Japan', 'Sri Lanka',\n",
       "       'Libyan Arab Jamahiriya', 'Guinea', 'Bermuda', 'Belarus',\n",
       "       'Estonia', 'Suriname', 'Dominican Republic', 'Vanuatu',\n",
       "       'Trinidad and Tobago', 'Cyprus', 'Macedonia', 'Viet Nam',\n",
       "       'Scotland, United Kingdom', 'Barbados', 'Swaziland',\n",
       "       'Falkland Islands', 'Kyrgyzstan', 'Bangladesh', 'Laos',\n",
       "       'Middleburg, MD', 'Papua New Guinea', 'Virginia', 'Uruguay',\n",
       "       'Guam', 'Dominican Re', 'Saint Lucia'], dtype=object)"
      ]
     },
     "execution_count": 713,
     "metadata": {},
     "output_type": "execute_result"
    }
   ],
   "source": [
    "data2.state.unique()"
   ]
  },
  {
   "cell_type": "markdown",
   "metadata": {},
   "source": [
    "#### Looking at unique values we first need to fix some problems with the column"
   ]
  },
  {
   "cell_type": "code",
   "execution_count": 714,
   "metadata": {},
   "outputs": [
    {
     "data": {
      "text/html": [
       "<div>\n",
       "<style scoped>\n",
       "    .dataframe tbody tr th:only-of-type {\n",
       "        vertical-align: middle;\n",
       "    }\n",
       "\n",
       "    .dataframe tbody tr th {\n",
       "        vertical-align: top;\n",
       "    }\n",
       "\n",
       "    .dataframe thead th {\n",
       "        text-align: right;\n",
       "    }\n",
       "</style>\n",
       "<table border=\"1\" class=\"dataframe\">\n",
       "  <thead>\n",
       "    <tr style=\"text-align: right;\">\n",
       "      <th></th>\n",
       "      <th>project id</th>\n",
       "      <th>name</th>\n",
       "      <th>url</th>\n",
       "      <th>category</th>\n",
       "      <th>subcategory</th>\n",
       "      <th>status</th>\n",
       "      <th>goal</th>\n",
       "      <th>pledged</th>\n",
       "      <th>funded percentage</th>\n",
       "      <th>backers</th>\n",
       "      <th>...</th>\n",
       "      <th>weekday_nr</th>\n",
       "      <th>month_nr</th>\n",
       "      <th>date</th>\n",
       "      <th>city</th>\n",
       "      <th>state</th>\n",
       "      <th>canceled</th>\n",
       "      <th>failed</th>\n",
       "      <th>live</th>\n",
       "      <th>successful</th>\n",
       "      <th>suspended</th>\n",
       "    </tr>\n",
       "  </thead>\n",
       "  <tbody>\n",
       "    <tr>\n",
       "      <th>34811</th>\n",
       "      <td>1637912974</td>\n",
       "      <td>Light Ball</td>\n",
       "      <td>http://www.kickstarter.com/projects/819627388/...</td>\n",
       "      <td>Technology</td>\n",
       "      <td>Technology</td>\n",
       "      <td>failed</td>\n",
       "      <td>19500.0</td>\n",
       "      <td>103.0</td>\n",
       "      <td>0.005282</td>\n",
       "      <td>3</td>\n",
       "      <td>...</td>\n",
       "      <td>6</td>\n",
       "      <td>3</td>\n",
       "      <td>2012-03-31</td>\n",
       "      <td>10</td>\n",
       "      <td>Middleburg, MD</td>\n",
       "      <td>0</td>\n",
       "      <td>1</td>\n",
       "      <td>0</td>\n",
       "      <td>0</td>\n",
       "      <td>0</td>\n",
       "    </tr>\n",
       "  </tbody>\n",
       "</table>\n",
       "<p>1 rows × 31 columns</p>\n",
       "</div>"
      ],
      "text/plain": [
       "       project id        name  \\\n",
       "34811  1637912974  Light Ball   \n",
       "\n",
       "                                                     url    category  \\\n",
       "34811  http://www.kickstarter.com/projects/819627388/...  Technology   \n",
       "\n",
       "      subcategory  status     goal  pledged  funded percentage  backers  \\\n",
       "34811  Technology  failed  19500.0    103.0           0.005282        3   \n",
       "\n",
       "         ...     weekday_nr  month_nr       date  city           state  \\\n",
       "34811    ...              6         3 2012-03-31    10  Middleburg, MD   \n",
       "\n",
       "       canceled failed  live successful  suspended  \n",
       "34811         0      1     0          0          0  \n",
       "\n",
       "[1 rows x 31 columns]"
      ]
     },
     "execution_count": 714,
     "metadata": {},
     "output_type": "execute_result"
    }
   ],
   "source": [
    "# Look at the row with city and state in state column\n",
    "data2.loc[data2['state'] == 'Middleburg, MD']"
   ]
  },
  {
   "cell_type": "code",
   "execution_count": 715,
   "metadata": {},
   "outputs": [],
   "source": [
    "# Replace 10 with Middleburg\n",
    "data2['city'] = data2['city'].replace('10', 'Middleburg')"
   ]
  },
  {
   "cell_type": "code",
   "execution_count": 716,
   "metadata": {},
   "outputs": [
    {
     "data": {
      "text/plain": [
       "project id                                                  1637912974\n",
       "name                                                        Light Ball\n",
       "url                  http://www.kickstarter.com/projects/819627388/...\n",
       "category                                                    Technology\n",
       "subcategory                                                 Technology\n",
       "status                                                          failed\n",
       "goal                                                             19500\n",
       "pledged                                                            103\n",
       "funded percentage                                           0.00528205\n",
       "backers                                                              3\n",
       "funded date                            Sat, 31 Mar 2012 03:59:00 -0000\n",
       "levels                                                               6\n",
       "reward levels                               25,100,200,750,2,000,3,500\n",
       "updates                                                              0\n",
       "comments                                                             0\n",
       "duration                                                         49.09\n",
       "weekday                                                            Sat\n",
       "nr_in_month                                                         31\n",
       "month                                                              Mar\n",
       "year                                                              2012\n",
       "time                                                    03:59:00 -0000\n",
       "weekday_nr                                                           6\n",
       "month_nr                                                             3\n",
       "date                                               2012-03-31 00:00:00\n",
       "city                                                        Middleburg\n",
       "state                                                   Middleburg, MD\n",
       "canceled                                                             0\n",
       "failed                                                               1\n",
       "live                                                                 0\n",
       "successful                                                           0\n",
       "suspended                                                            0\n",
       "Name: 34811, dtype: object"
      ]
     },
     "execution_count": 716,
     "metadata": {},
     "output_type": "execute_result"
    }
   ],
   "source": [
    "# Make sure that city now is Middleburg\n",
    "data2.loc[34811 , : ]"
   ]
  },
  {
   "cell_type": "code",
   "execution_count": 717,
   "metadata": {},
   "outputs": [],
   "source": [
    "# Fix the state column\n",
    "data2['state'] = data2['state'].replace('Middleburg, MD', 'MD')"
   ]
  },
  {
   "cell_type": "code",
   "execution_count": 718,
   "metadata": {},
   "outputs": [
    {
     "data": {
      "text/plain": [
       "project id                                                  1637912974\n",
       "name                                                        Light Ball\n",
       "url                  http://www.kickstarter.com/projects/819627388/...\n",
       "category                                                    Technology\n",
       "subcategory                                                 Technology\n",
       "status                                                          failed\n",
       "goal                                                             19500\n",
       "pledged                                                            103\n",
       "funded percentage                                           0.00528205\n",
       "backers                                                              3\n",
       "funded date                            Sat, 31 Mar 2012 03:59:00 -0000\n",
       "levels                                                               6\n",
       "reward levels                               25,100,200,750,2,000,3,500\n",
       "updates                                                              0\n",
       "comments                                                             0\n",
       "duration                                                         49.09\n",
       "weekday                                                            Sat\n",
       "nr_in_month                                                         31\n",
       "month                                                              Mar\n",
       "year                                                              2012\n",
       "time                                                    03:59:00 -0000\n",
       "weekday_nr                                                           6\n",
       "month_nr                                                             3\n",
       "date                                               2012-03-31 00:00:00\n",
       "city                                                        Middleburg\n",
       "state                                                               MD\n",
       "canceled                                                             0\n",
       "failed                                                               1\n",
       "live                                                                 0\n",
       "successful                                                           0\n",
       "suspended                                                            0\n",
       "Name: 34811, dtype: object"
      ]
     },
     "execution_count": 718,
     "metadata": {},
     "output_type": "execute_result"
    }
   ],
   "source": [
    "# Make sure that state now is MD\n",
    "data2.loc[34811 , : ]"
   ]
  },
  {
   "cell_type": "markdown",
   "metadata": {},
   "source": [
    "#### Now we are going to make the new column (stating US, international or X)"
   ]
  },
  {
   "cell_type": "code",
   "execution_count": 719,
   "metadata": {
    "scrolled": true
   },
   "outputs": [],
   "source": [
    "data2['temp'] = data2['state'].str.len()"
   ]
  },
  {
   "cell_type": "code",
   "execution_count": 720,
   "metadata": {},
   "outputs": [],
   "source": [
    "def label_global (row):\n",
    "   if row['temp'] == 2 :\n",
    "      return 'US'\n",
    "   elif row['temp'] > 2 :\n",
    "      return 'international'\n",
    "   else:\n",
    "      return 'X'"
   ]
  },
  {
   "cell_type": "code",
   "execution_count": 721,
   "metadata": {
    "scrolled": true
   },
   "outputs": [],
   "source": [
    "data2['global'] = data2.apply (lambda row: label_global(row), axis=1)"
   ]
  },
  {
   "cell_type": "code",
   "execution_count": 722,
   "metadata": {
    "scrolled": true
   },
   "outputs": [
    {
     "data": {
      "text/html": [
       "<div>\n",
       "<style scoped>\n",
       "    .dataframe tbody tr th:only-of-type {\n",
       "        vertical-align: middle;\n",
       "    }\n",
       "\n",
       "    .dataframe tbody tr th {\n",
       "        vertical-align: top;\n",
       "    }\n",
       "\n",
       "    .dataframe thead th {\n",
       "        text-align: right;\n",
       "    }\n",
       "</style>\n",
       "<table border=\"1\" class=\"dataframe\">\n",
       "  <thead>\n",
       "    <tr style=\"text-align: right;\">\n",
       "      <th></th>\n",
       "      <th>project id</th>\n",
       "      <th>name</th>\n",
       "      <th>url</th>\n",
       "      <th>category</th>\n",
       "      <th>subcategory</th>\n",
       "      <th>status</th>\n",
       "      <th>goal</th>\n",
       "      <th>pledged</th>\n",
       "      <th>funded percentage</th>\n",
       "      <th>backers</th>\n",
       "      <th>...</th>\n",
       "      <th>date</th>\n",
       "      <th>city</th>\n",
       "      <th>state</th>\n",
       "      <th>canceled</th>\n",
       "      <th>failed</th>\n",
       "      <th>live</th>\n",
       "      <th>successful</th>\n",
       "      <th>suspended</th>\n",
       "      <th>temp</th>\n",
       "      <th>global</th>\n",
       "    </tr>\n",
       "  </thead>\n",
       "  <tbody>\n",
       "    <tr>\n",
       "      <th>0</th>\n",
       "      <td>39409</td>\n",
       "      <td>WHILE THE TREES SLEEP</td>\n",
       "      <td>http://www.kickstarter.com/projects/emiliesaba...</td>\n",
       "      <td>Film &amp; Video</td>\n",
       "      <td>Short Film</td>\n",
       "      <td>successful</td>\n",
       "      <td>10500.0</td>\n",
       "      <td>11545.0</td>\n",
       "      <td>1.099524</td>\n",
       "      <td>66</td>\n",
       "      <td>...</td>\n",
       "      <td>2011-08-19</td>\n",
       "      <td>Columbia</td>\n",
       "      <td>MO</td>\n",
       "      <td>0</td>\n",
       "      <td>0</td>\n",
       "      <td>0</td>\n",
       "      <td>1</td>\n",
       "      <td>0</td>\n",
       "      <td>2.0</td>\n",
       "      <td>US</td>\n",
       "    </tr>\n",
       "    <tr>\n",
       "      <th>1</th>\n",
       "      <td>126581</td>\n",
       "      <td>Educational Online Trading Card Game</td>\n",
       "      <td>http://www.kickstarter.com/projects/972789543/...</td>\n",
       "      <td>Games</td>\n",
       "      <td>Board &amp; Card Games</td>\n",
       "      <td>failed</td>\n",
       "      <td>4000.0</td>\n",
       "      <td>20.0</td>\n",
       "      <td>0.005000</td>\n",
       "      <td>2</td>\n",
       "      <td>...</td>\n",
       "      <td>2010-08-02</td>\n",
       "      <td>Maplewood</td>\n",
       "      <td>NJ</td>\n",
       "      <td>0</td>\n",
       "      <td>1</td>\n",
       "      <td>0</td>\n",
       "      <td>0</td>\n",
       "      <td>0</td>\n",
       "      <td>2.0</td>\n",
       "      <td>US</td>\n",
       "    </tr>\n",
       "    <tr>\n",
       "      <th>2</th>\n",
       "      <td>138119</td>\n",
       "      <td>STRUM</td>\n",
       "      <td>http://www.kickstarter.com/projects/185476022/...</td>\n",
       "      <td>Film &amp; Video</td>\n",
       "      <td>Animation</td>\n",
       "      <td>live</td>\n",
       "      <td>20000.0</td>\n",
       "      <td>56.0</td>\n",
       "      <td>0.002800</td>\n",
       "      <td>3</td>\n",
       "      <td>...</td>\n",
       "      <td>2012-06-08</td>\n",
       "      <td>Los Angeles</td>\n",
       "      <td>CA</td>\n",
       "      <td>0</td>\n",
       "      <td>0</td>\n",
       "      <td>1</td>\n",
       "      <td>0</td>\n",
       "      <td>0</td>\n",
       "      <td>2.0</td>\n",
       "      <td>US</td>\n",
       "    </tr>\n",
       "    <tr>\n",
       "      <th>3</th>\n",
       "      <td>237090</td>\n",
       "      <td>GETTING OVER - One son's search to finally kno...</td>\n",
       "      <td>http://www.kickstarter.com/projects/charnick/g...</td>\n",
       "      <td>Film &amp; Video</td>\n",
       "      <td>Documentary</td>\n",
       "      <td>successful</td>\n",
       "      <td>6000.0</td>\n",
       "      <td>6535.0</td>\n",
       "      <td>1.089167</td>\n",
       "      <td>100</td>\n",
       "      <td>...</td>\n",
       "      <td>2012-04-08</td>\n",
       "      <td>Los Angeles</td>\n",
       "      <td>CA</td>\n",
       "      <td>0</td>\n",
       "      <td>0</td>\n",
       "      <td>0</td>\n",
       "      <td>1</td>\n",
       "      <td>0</td>\n",
       "      <td>2.0</td>\n",
       "      <td>US</td>\n",
       "    </tr>\n",
       "    <tr>\n",
       "      <th>4</th>\n",
       "      <td>246101</td>\n",
       "      <td>The Launch of FlyeGrlRoyalty &amp;quot;The New Nam...</td>\n",
       "      <td>http://www.kickstarter.com/projects/flyegrlroy...</td>\n",
       "      <td>Fashion</td>\n",
       "      <td>Fashion</td>\n",
       "      <td>failed</td>\n",
       "      <td>3500.0</td>\n",
       "      <td>0.0</td>\n",
       "      <td>0.000000</td>\n",
       "      <td>0</td>\n",
       "      <td>...</td>\n",
       "      <td>2011-06-01</td>\n",
       "      <td>Novi</td>\n",
       "      <td>MI</td>\n",
       "      <td>0</td>\n",
       "      <td>1</td>\n",
       "      <td>0</td>\n",
       "      <td>0</td>\n",
       "      <td>0</td>\n",
       "      <td>2.0</td>\n",
       "      <td>US</td>\n",
       "    </tr>\n",
       "    <tr>\n",
       "      <th>5</th>\n",
       "      <td>316217</td>\n",
       "      <td>Dinner Party - a short film about friendship.....</td>\n",
       "      <td>http://www.kickstarter.com/projects/249354515/...</td>\n",
       "      <td>Film &amp; Video</td>\n",
       "      <td>Short Film</td>\n",
       "      <td>successful</td>\n",
       "      <td>3500.0</td>\n",
       "      <td>3582.0</td>\n",
       "      <td>1.023331</td>\n",
       "      <td>39</td>\n",
       "      <td>...</td>\n",
       "      <td>2011-06-22</td>\n",
       "      <td>Portland</td>\n",
       "      <td>OR</td>\n",
       "      <td>0</td>\n",
       "      <td>0</td>\n",
       "      <td>0</td>\n",
       "      <td>1</td>\n",
       "      <td>0</td>\n",
       "      <td>2.0</td>\n",
       "      <td>US</td>\n",
       "    </tr>\n",
       "    <tr>\n",
       "      <th>6</th>\n",
       "      <td>325034</td>\n",
       "      <td>Mezzo</td>\n",
       "      <td>http://www.kickstarter.com/projects/geoffsaysh...</td>\n",
       "      <td>Film &amp; Video</td>\n",
       "      <td>Short Film</td>\n",
       "      <td>failed</td>\n",
       "      <td>1000.0</td>\n",
       "      <td>280.0</td>\n",
       "      <td>0.280000</td>\n",
       "      <td>8</td>\n",
       "      <td>...</td>\n",
       "      <td>2012-02-18</td>\n",
       "      <td>Collegedale</td>\n",
       "      <td>TN</td>\n",
       "      <td>0</td>\n",
       "      <td>1</td>\n",
       "      <td>0</td>\n",
       "      <td>0</td>\n",
       "      <td>0</td>\n",
       "      <td>2.0</td>\n",
       "      <td>US</td>\n",
       "    </tr>\n",
       "    <tr>\n",
       "      <th>7</th>\n",
       "      <td>407836</td>\n",
       "      <td>Help APORTA continue to make handwoven/knit ac...</td>\n",
       "      <td>http://www.kickstarter.com/projects/1078097864...</td>\n",
       "      <td>Fashion</td>\n",
       "      <td>Fashion</td>\n",
       "      <td>successful</td>\n",
       "      <td>2000.0</td>\n",
       "      <td>2180.0</td>\n",
       "      <td>1.090000</td>\n",
       "      <td>46</td>\n",
       "      <td>...</td>\n",
       "      <td>2011-12-30</td>\n",
       "      <td>Chicago</td>\n",
       "      <td>IL</td>\n",
       "      <td>0</td>\n",
       "      <td>0</td>\n",
       "      <td>0</td>\n",
       "      <td>1</td>\n",
       "      <td>0</td>\n",
       "      <td>2.0</td>\n",
       "      <td>US</td>\n",
       "    </tr>\n",
       "    <tr>\n",
       "      <th>8</th>\n",
       "      <td>436325</td>\n",
       "      <td>Music - Comedy - Album!</td>\n",
       "      <td>http://www.kickstarter.com/projects/mattgriffo...</td>\n",
       "      <td>Music</td>\n",
       "      <td>Music</td>\n",
       "      <td>successful</td>\n",
       "      <td>1000.0</td>\n",
       "      <td>1125.0</td>\n",
       "      <td>1.125000</td>\n",
       "      <td>30</td>\n",
       "      <td>...</td>\n",
       "      <td>2010-04-18</td>\n",
       "      <td>Chicago</td>\n",
       "      <td>IL</td>\n",
       "      <td>0</td>\n",
       "      <td>0</td>\n",
       "      <td>0</td>\n",
       "      <td>1</td>\n",
       "      <td>0</td>\n",
       "      <td>2.0</td>\n",
       "      <td>US</td>\n",
       "    </tr>\n",
       "    <tr>\n",
       "      <th>9</th>\n",
       "      <td>610918</td>\n",
       "      <td>The Apocalypse Calendar</td>\n",
       "      <td>http://www.kickstarter.com/projects/tqvinn/the...</td>\n",
       "      <td>Art</td>\n",
       "      <td>Illustration</td>\n",
       "      <td>successful</td>\n",
       "      <td>7500.0</td>\n",
       "      <td>9836.0</td>\n",
       "      <td>1.311527</td>\n",
       "      <td>255</td>\n",
       "      <td>...</td>\n",
       "      <td>2011-11-01</td>\n",
       "      <td>Chicago</td>\n",
       "      <td>IL</td>\n",
       "      <td>0</td>\n",
       "      <td>0</td>\n",
       "      <td>0</td>\n",
       "      <td>1</td>\n",
       "      <td>0</td>\n",
       "      <td>2.0</td>\n",
       "      <td>US</td>\n",
       "    </tr>\n",
       "    <tr>\n",
       "      <th>10</th>\n",
       "      <td>710161</td>\n",
       "      <td>It's You Again - A new comedy show (and short ...</td>\n",
       "      <td>http://www.kickstarter.com/projects/657780861/...</td>\n",
       "      <td>Film &amp; Video</td>\n",
       "      <td>Film &amp;amp; Video</td>\n",
       "      <td>live</td>\n",
       "      <td>8000.0</td>\n",
       "      <td>0.0</td>\n",
       "      <td>0.000000</td>\n",
       "      <td>0</td>\n",
       "      <td>...</td>\n",
       "      <td>2012-07-01</td>\n",
       "      <td>Nashville</td>\n",
       "      <td>TN</td>\n",
       "      <td>0</td>\n",
       "      <td>0</td>\n",
       "      <td>1</td>\n",
       "      <td>0</td>\n",
       "      <td>0</td>\n",
       "      <td>2.0</td>\n",
       "      <td>US</td>\n",
       "    </tr>\n",
       "    <tr>\n",
       "      <th>11</th>\n",
       "      <td>727286</td>\n",
       "      <td>Offline Wikipedia iPhone app</td>\n",
       "      <td>http://www.kickstarter.com/projects/dphiffer/o...</td>\n",
       "      <td>Technology</td>\n",
       "      <td>Open Software</td>\n",
       "      <td>successful</td>\n",
       "      <td>99.0</td>\n",
       "      <td>145.0</td>\n",
       "      <td>1.464646</td>\n",
       "      <td>25</td>\n",
       "      <td>...</td>\n",
       "      <td>2009-07-14</td>\n",
       "      <td>X</td>\n",
       "      <td>X</td>\n",
       "      <td>0</td>\n",
       "      <td>0</td>\n",
       "      <td>0</td>\n",
       "      <td>1</td>\n",
       "      <td>0</td>\n",
       "      <td>1.0</td>\n",
       "      <td>X</td>\n",
       "    </tr>\n",
       "  </tbody>\n",
       "</table>\n",
       "<p>12 rows × 33 columns</p>\n",
       "</div>"
      ],
      "text/plain": [
       "    project id                                               name  \\\n",
       "0        39409                              WHILE THE TREES SLEEP   \n",
       "1       126581               Educational Online Trading Card Game   \n",
       "2       138119                                              STRUM   \n",
       "3       237090  GETTING OVER - One son's search to finally kno...   \n",
       "4       246101  The Launch of FlyeGrlRoyalty &quot;The New Nam...   \n",
       "5       316217  Dinner Party - a short film about friendship.....   \n",
       "6       325034                                              Mezzo   \n",
       "7       407836  Help APORTA continue to make handwoven/knit ac...   \n",
       "8       436325                            Music - Comedy - Album!   \n",
       "9       610918                            The Apocalypse Calendar   \n",
       "10      710161  It's You Again - A new comedy show (and short ...   \n",
       "11      727286                       Offline Wikipedia iPhone app   \n",
       "\n",
       "                                                  url      category  \\\n",
       "0   http://www.kickstarter.com/projects/emiliesaba...  Film & Video   \n",
       "1   http://www.kickstarter.com/projects/972789543/...         Games   \n",
       "2   http://www.kickstarter.com/projects/185476022/...  Film & Video   \n",
       "3   http://www.kickstarter.com/projects/charnick/g...  Film & Video   \n",
       "4   http://www.kickstarter.com/projects/flyegrlroy...       Fashion   \n",
       "5   http://www.kickstarter.com/projects/249354515/...  Film & Video   \n",
       "6   http://www.kickstarter.com/projects/geoffsaysh...  Film & Video   \n",
       "7   http://www.kickstarter.com/projects/1078097864...       Fashion   \n",
       "8   http://www.kickstarter.com/projects/mattgriffo...         Music   \n",
       "9   http://www.kickstarter.com/projects/tqvinn/the...           Art   \n",
       "10  http://www.kickstarter.com/projects/657780861/...  Film & Video   \n",
       "11  http://www.kickstarter.com/projects/dphiffer/o...    Technology   \n",
       "\n",
       "           subcategory      status     goal  pledged  funded percentage  \\\n",
       "0           Short Film  successful  10500.0  11545.0           1.099524   \n",
       "1   Board & Card Games      failed   4000.0     20.0           0.005000   \n",
       "2            Animation        live  20000.0     56.0           0.002800   \n",
       "3          Documentary  successful   6000.0   6535.0           1.089167   \n",
       "4              Fashion      failed   3500.0      0.0           0.000000   \n",
       "5           Short Film  successful   3500.0   3582.0           1.023331   \n",
       "6           Short Film      failed   1000.0    280.0           0.280000   \n",
       "7              Fashion  successful   2000.0   2180.0           1.090000   \n",
       "8                Music  successful   1000.0   1125.0           1.125000   \n",
       "9         Illustration  successful   7500.0   9836.0           1.311527   \n",
       "10    Film &amp; Video        live   8000.0      0.0           0.000000   \n",
       "11       Open Software  successful     99.0    145.0           1.464646   \n",
       "\n",
       "    backers   ...         date         city state  canceled  failed  live  \\\n",
       "0        66   ...   2011-08-19     Columbia    MO         0       0     0   \n",
       "1         2   ...   2010-08-02    Maplewood    NJ         0       1     0   \n",
       "2         3   ...   2012-06-08  Los Angeles    CA         0       0     1   \n",
       "3       100   ...   2012-04-08  Los Angeles    CA         0       0     0   \n",
       "4         0   ...   2011-06-01         Novi    MI         0       1     0   \n",
       "5        39   ...   2011-06-22     Portland    OR         0       0     0   \n",
       "6         8   ...   2012-02-18  Collegedale    TN         0       1     0   \n",
       "7        46   ...   2011-12-30      Chicago    IL         0       0     0   \n",
       "8        30   ...   2010-04-18      Chicago    IL         0       0     0   \n",
       "9       255   ...   2011-11-01      Chicago    IL         0       0     0   \n",
       "10        0   ...   2012-07-01    Nashville    TN         0       0     1   \n",
       "11       25   ...   2009-07-14            X     X         0       0     0   \n",
       "\n",
       "   successful  suspended temp  global  \n",
       "0           1          0  2.0      US  \n",
       "1           0          0  2.0      US  \n",
       "2           0          0  2.0      US  \n",
       "3           1          0  2.0      US  \n",
       "4           0          0  2.0      US  \n",
       "5           1          0  2.0      US  \n",
       "6           0          0  2.0      US  \n",
       "7           1          0  2.0      US  \n",
       "8           1          0  2.0      US  \n",
       "9           1          0  2.0      US  \n",
       "10          0          0  2.0      US  \n",
       "11          1          0  1.0       X  \n",
       "\n",
       "[12 rows x 33 columns]"
      ]
     },
     "execution_count": 722,
     "metadata": {},
     "output_type": "execute_result"
    }
   ],
   "source": [
    "data2.head(12)"
   ]
  },
  {
   "cell_type": "code",
   "execution_count": 723,
   "metadata": {},
   "outputs": [],
   "source": [
    "# Drop temp column\n",
    "data2 = data2.drop(['temp'], axis=1)"
   ]
  },
  {
   "cell_type": "markdown",
   "metadata": {},
   "source": [
    "#### Look at unique values for new column"
   ]
  },
  {
   "cell_type": "code",
   "execution_count": 724,
   "metadata": {},
   "outputs": [
    {
     "data": {
      "text/plain": [
       "US               42170\n",
       "international     2321\n",
       "X                 1306\n",
       "Name: global, dtype: int64"
      ]
     },
     "execution_count": 724,
     "metadata": {},
     "output_type": "execute_result"
    }
   ],
   "source": [
    "data2['global'].value_counts()"
   ]
  },
  {
   "cell_type": "markdown",
   "metadata": {},
   "source": [
    "### Fix problems in category and subcategory columns"
   ]
  },
  {
   "cell_type": "code",
   "execution_count": 725,
   "metadata": {},
   "outputs": [
    {
     "data": {
      "text/plain": [
       "dtype('O')"
      ]
     },
     "execution_count": 725,
     "metadata": {},
     "output_type": "execute_result"
    }
   ],
   "source": [
    "data2['category'].dtypes"
   ]
  },
  {
   "cell_type": "code",
   "execution_count": 726,
   "metadata": {},
   "outputs": [
    {
     "data": {
      "text/plain": [
       "dtype('O')"
      ]
     },
     "execution_count": 726,
     "metadata": {},
     "output_type": "execute_result"
    }
   ],
   "source": [
    "data2['subcategory'].dtypes"
   ]
  },
  {
   "cell_type": "code",
   "execution_count": 727,
   "metadata": {},
   "outputs": [
    {
     "data": {
      "text/plain": [
       "array(['Film & Video', 'Games', 'Fashion', 'Music', 'Art', 'Technology',\n",
       "       'Dance', 'Publishing', 'Theater', 'Comics', 'Design',\n",
       "       'Photography', 'Food', 'Film &amp; Video'], dtype=object)"
      ]
     },
     "execution_count": 727,
     "metadata": {},
     "output_type": "execute_result"
    }
   ],
   "source": [
    "data2['category'].unique()"
   ]
  },
  {
   "cell_type": "code",
   "execution_count": 728,
   "metadata": {},
   "outputs": [
    {
     "data": {
      "text/plain": [
       "array(['Short Film', 'Board & Card Games', 'Animation', 'Documentary',\n",
       "       'Fashion', 'Music', 'Illustration', 'Film &amp; Video',\n",
       "       'Open Software', 'Indie Rock', 'Dance', 'Fiction', 'Nonfiction',\n",
       "       'Theater', 'Games', 'Art Book', 'Country & Folk', 'Comics',\n",
       "       'Webseries', 'Technology', 'Performance Art', 'Narrative Film',\n",
       "       'Video Games', 'Product Design', 'Rock', 'Painting', 'Photography',\n",
       "       'Conceptual Art', 'Jazz', 'Open Hardware', 'Classical Music',\n",
       "       'Food', 'Art', 'Pop', 'Journalism', 'Poetry', 'Electronic Music',\n",
       "       'World Music', 'Sculpture', 'Publishing', \"Children's Book\",\n",
       "       'Public Art', 'Mixed Media', 'Graphic Design', 'Hip-Hop',\n",
       "       'Periodical', 'Crafts', 'Design', 'Digital Art',\n",
       "       'Board &amp; Card Games', 'Country &amp; Folk'], dtype=object)"
      ]
     },
     "execution_count": 728,
     "metadata": {},
     "output_type": "execute_result"
    }
   ],
   "source": [
    "data2['subcategory'].unique()"
   ]
  },
  {
   "cell_type": "code",
   "execution_count": 729,
   "metadata": {},
   "outputs": [],
   "source": [
    "data2 = data2.replace('Film &amp; Video', 'Film_Video')\n",
    "data2 = data2.replace('Film & Video', 'Film_Video')\n",
    "data2 = data2.replace('Country &amp; Folk', 'Country_Folk')\n",
    "data2 = data2.replace('Children\\'s Book', 'Childrens Book')\n",
    "data2 = data2.replace('Board &amp; Card Games', 'Board_Card Games')\n",
    "data2 = data2.replace('Country & Folk', 'Country_Folk')\n",
    "data2 = data2.replace('Board & Card Games', 'Board_Card Games')"
   ]
  },
  {
   "cell_type": "code",
   "execution_count": 730,
   "metadata": {},
   "outputs": [
    {
     "data": {
      "text/plain": [
       "Film_Video     13531\n",
       "Music          10882\n",
       "Publishing      4752\n",
       "Art             3976\n",
       "Theater         2479\n",
       "Design          1755\n",
       "Games           1726\n",
       "Photography     1506\n",
       "Food            1431\n",
       "Fashion         1135\n",
       "Comics          1065\n",
       "Technology       802\n",
       "Dance            757\n",
       "Name: category, dtype: int64"
      ]
     },
     "execution_count": 730,
     "metadata": {},
     "output_type": "execute_result"
    }
   ],
   "source": [
    "data2['category'].value_counts()"
   ]
  },
  {
   "cell_type": "code",
   "execution_count": 731,
   "metadata": {},
   "outputs": [
    {
     "data": {
      "text/plain": [
       "Documentary         4004\n",
       "Short Film          3939\n",
       "Music               3232\n",
       "Film_Video          2492\n",
       "Theater             2479\n",
       "Indie Rock          1934\n",
       "Rock                1788\n",
       "Narrative Film      1551\n",
       "Photography         1506\n",
       "Food                1431\n",
       "Fashion             1135\n",
       "Webseries           1121\n",
       "Fiction             1095\n",
       "Art                 1070\n",
       "Comics              1065\n",
       "Nonfiction          1056\n",
       "Country_Folk        1056\n",
       "Product Design      1046\n",
       "Video Games          902\n",
       "Dance                757\n",
       "Pop                  745\n",
       "Publishing           671\n",
       "Childrens Book       651\n",
       "Public Art           563\n",
       "Board_Card Games     553\n",
       "Painting             517\n",
       "Performance Art      504\n",
       "Classical Music      480\n",
       "Hip-Hop              476\n",
       "Jazz                 445\n",
       "Mixed Media          442\n",
       "Journalism           429\n",
       "World Music          426\n",
       "Animation            424\n",
       "Technology           369\n",
       "Sculpture            354\n",
       "Art Book             338\n",
       "Electronic Music     300\n",
       "Periodical           290\n",
       "Design               283\n",
       "Games                271\n",
       "Crafts               251\n",
       "Open Software        251\n",
       "Poetry               222\n",
       "Illustration         205\n",
       "Open Hardware        182\n",
       "Conceptual Art       177\n",
       "Graphic Design       175\n",
       "Digital Art          144\n",
       "Name: subcategory, dtype: int64"
      ]
     },
     "execution_count": 731,
     "metadata": {},
     "output_type": "execute_result"
    }
   ],
   "source": [
    "data2['subcategory'].value_counts()"
   ]
  },
  {
   "cell_type": "markdown",
   "metadata": {},
   "source": [
    "### Reward levels"
   ]
  },
  {
   "cell_type": "code",
   "execution_count": 746,
   "metadata": {},
   "outputs": [
    {
     "data": {
      "text/plain": [
       "0                      25,50,100,250,500,1,000,2,500\n",
       "1                                       1,5,10,25,50\n",
       "2            1,10,25,40,50,100,250,1,000,1,337,9,001\n",
       "3    1,10,25,30,50,75,85,100,110,250,500,1,000,5,000\n",
       "4                               10,25,50,100,150,250\n",
       "5                          5,25,50,100,250,500,1,000\n",
       "6                                     5,10,25,50,100\n",
       "7                         10,20,50,100,250,500,1,000\n",
       "8           5,8,10,15,20,30,50,100,120,250,500,1,000\n",
       "9              1,20,35,50,60,100,110,500,1,000,1,500\n",
       "Name: reward levels, dtype: object"
      ]
     },
     "execution_count": 746,
     "metadata": {},
     "output_type": "execute_result"
    }
   ],
   "source": [
    "data2['reward levels'].head(10)"
   ]
  },
  {
   "cell_type": "code",
   "execution_count": 745,
   "metadata": {},
   "outputs": [
    {
     "data": {
      "text/plain": [
       "dtype('O')"
      ]
     },
     "execution_count": 745,
     "metadata": {},
     "output_type": "execute_result"
    }
   ],
   "source": [
    "# The reward levels are given as a string\n",
    "data2['reward levels'].dtypes"
   ]
  },
  {
   "cell_type": "markdown",
   "metadata": {},
   "source": [
    "#### Min reward levels"
   ]
  },
  {
   "cell_type": "code",
   "execution_count": 769,
   "metadata": {},
   "outputs": [
    {
     "data": {
      "text/plain": [
       "0    25\n",
       "1     1\n",
       "2     1\n",
       "3     1\n",
       "4    10\n",
       "5     5\n",
       "6     5\n",
       "7    10\n",
       "8     5\n",
       "9     1\n",
       "Name: min reward level, dtype: object"
      ]
     },
     "execution_count": 769,
     "metadata": {},
     "output_type": "execute_result"
    }
   ],
   "source": [
    "# Get all the values before the first comma (min value)\n",
    "data2['min reward level'] = [x[0] for x in data2['reward levels'].str.split(',', n=1)]\n",
    "\n",
    "data2['min reward level'].head(10)"
   ]
  },
  {
   "cell_type": "code",
   "execution_count": 772,
   "metadata": {
    "scrolled": true
   },
   "outputs": [
    {
     "data": {
      "text/plain": [
       "1      17147\n",
       "5      11133\n",
       "10      9746\n",
       "25      2223\n",
       "15      1250\n",
       "20      1169\n",
       "2        804\n",
       "3        514\n",
       "50       386\n",
       "100      187\n",
       "Name: min reward level, dtype: int64"
      ]
     },
     "execution_count": 772,
     "metadata": {},
     "output_type": "execute_result"
    }
   ],
   "source": [
    "# the 10 most common min reward levels\n",
    "data2['min reward level'].value_counts().head(10)"
   ]
  },
  {
   "cell_type": "markdown",
   "metadata": {},
   "source": [
    "#### Max reward levels"
   ]
  },
  {
   "cell_type": "code",
   "execution_count": 775,
   "metadata": {},
   "outputs": [
    {
     "data": {
      "text/plain": [
       "0    ,000,2,500\n",
       "1    5,10,25,50\n",
       "2    ,337,9,001\n",
       "3    ,000,5,000\n",
       "4    00,150,250\n",
       "5    ,500,1,000\n",
       "6    ,25,50,100\n",
       "7    ,500,1,000\n",
       "8    ,500,1,000\n",
       "9    ,000,1,500\n",
       "Name: reward levels, dtype: object"
      ]
     },
     "execution_count": 775,
     "metadata": {},
     "output_type": "execute_result"
    }
   ],
   "source": [
    "data2['reward levels'].str[-10:].head(10)"
   ]
  },
  {
   "cell_type": "code",
   "execution_count": null,
   "metadata": {},
   "outputs": [],
   "source": []
  },
  {
   "cell_type": "code",
   "execution_count": null,
   "metadata": {},
   "outputs": [],
   "source": [
    "### THIS IS NOT FINISHED! "
   ]
  },
  {
   "cell_type": "markdown",
   "metadata": {},
   "source": [
    "### Levels"
   ]
  },
  {
   "cell_type": "markdown",
   "metadata": {},
   "source": [
    "Just get a breif look"
   ]
  },
  {
   "cell_type": "code",
   "execution_count": null,
   "metadata": {},
   "outputs": [],
   "source": [
    "# Levels column is number of levels"
   ]
  },
  {
   "cell_type": "code",
   "execution_count": 739,
   "metadata": {},
   "outputs": [
    {
     "data": {
      "text/plain": [
       "0     7\n",
       "1     5\n",
       "2    10\n",
       "3    13\n",
       "4     6\n",
       "Name: levels, dtype: int64"
      ]
     },
     "execution_count": 739,
     "metadata": {},
     "output_type": "execute_result"
    }
   ],
   "source": [
    "data2['levels'].head()"
   ]
  },
  {
   "cell_type": "code",
   "execution_count": 740,
   "metadata": {},
   "outputs": [
    {
     "data": {
      "text/plain": [
       "80"
      ]
     },
     "execution_count": 740,
     "metadata": {},
     "output_type": "execute_result"
    }
   ],
   "source": [
    "# max numbers of reward levels\n",
    "data2['levels'].max()"
   ]
  },
  {
   "cell_type": "code",
   "execution_count": 741,
   "metadata": {},
   "outputs": [
    {
     "data": {
      "text/plain": [
       "1"
      ]
     },
     "execution_count": 741,
     "metadata": {},
     "output_type": "execute_result"
    }
   ],
   "source": [
    "# min numbers of reward levels\n",
    "data2['levels'].min()"
   ]
  },
  {
   "cell_type": "code",
   "execution_count": 743,
   "metadata": {},
   "outputs": [
    {
     "data": {
      "text/plain": [
       "8.011987684782847"
      ]
     },
     "execution_count": 743,
     "metadata": {},
     "output_type": "execute_result"
    }
   ],
   "source": [
    "# average numbers of reward levels\n",
    "data2['levels'].mean()"
   ]
  },
  {
   "cell_type": "code",
   "execution_count": 744,
   "metadata": {},
   "outputs": [
    {
     "data": {
      "text/plain": [
       "7.0"
      ]
     },
     "execution_count": 744,
     "metadata": {},
     "output_type": "execute_result"
    }
   ],
   "source": [
    "# median for numbers of reward levels\n",
    "data2['levels'].median()"
   ]
  },
  {
   "cell_type": "markdown",
   "metadata": {},
   "source": [
    "### Get correct order of df"
   ]
  },
  {
   "cell_type": "code",
   "execution_count": 733,
   "metadata": {},
   "outputs": [
    {
     "name": "stdout",
     "output_type": "stream",
     "text": [
      "project id\n",
      "name\n",
      "url\n",
      "category\n",
      "subcategory\n",
      "status\n",
      "goal\n",
      "pledged\n",
      "funded percentage\n",
      "backers\n",
      "funded date\n",
      "levels\n",
      "reward levels\n",
      "updates\n",
      "comments\n",
      "duration\n",
      "weekday\n",
      "nr_in_month\n",
      "month\n",
      "year\n",
      "time\n",
      "weekday_nr\n",
      "month_nr\n",
      "date\n",
      "city\n",
      "state\n",
      "canceled\n",
      "failed\n",
      "live\n",
      "successful\n",
      "suspended\n",
      "global\n"
     ]
    }
   ],
   "source": [
    "for col in data2.columns: \n",
    "    print(col) "
   ]
  },
  {
   "cell_type": "code",
   "execution_count": 734,
   "metadata": {},
   "outputs": [
    {
     "data": {
      "text/html": [
       "<div>\n",
       "<style scoped>\n",
       "    .dataframe tbody tr th:only-of-type {\n",
       "        vertical-align: middle;\n",
       "    }\n",
       "\n",
       "    .dataframe tbody tr th {\n",
       "        vertical-align: top;\n",
       "    }\n",
       "\n",
       "    .dataframe thead th {\n",
       "        text-align: right;\n",
       "    }\n",
       "</style>\n",
       "<table border=\"1\" class=\"dataframe\">\n",
       "  <thead>\n",
       "    <tr style=\"text-align: right;\">\n",
       "      <th></th>\n",
       "      <th>project id</th>\n",
       "      <th>name</th>\n",
       "      <th>url</th>\n",
       "      <th>category</th>\n",
       "      <th>subcategory</th>\n",
       "      <th>city</th>\n",
       "      <th>state</th>\n",
       "      <th>global</th>\n",
       "      <th>status</th>\n",
       "      <th>canceled</th>\n",
       "      <th>...</th>\n",
       "      <th>comments</th>\n",
       "      <th>duration</th>\n",
       "      <th>weekday</th>\n",
       "      <th>weekday_nr</th>\n",
       "      <th>nr_in_month</th>\n",
       "      <th>month</th>\n",
       "      <th>month_nr</th>\n",
       "      <th>year</th>\n",
       "      <th>time</th>\n",
       "      <th>date</th>\n",
       "    </tr>\n",
       "  </thead>\n",
       "  <tbody>\n",
       "    <tr>\n",
       "      <th>0</th>\n",
       "      <td>39409</td>\n",
       "      <td>WHILE THE TREES SLEEP</td>\n",
       "      <td>http://www.kickstarter.com/projects/emiliesaba...</td>\n",
       "      <td>Film_Video</td>\n",
       "      <td>Short Film</td>\n",
       "      <td>Columbia</td>\n",
       "      <td>MO</td>\n",
       "      <td>US</td>\n",
       "      <td>successful</td>\n",
       "      <td>0</td>\n",
       "      <td>...</td>\n",
       "      <td>2</td>\n",
       "      <td>30.00</td>\n",
       "      <td>Fri</td>\n",
       "      <td>5</td>\n",
       "      <td>19</td>\n",
       "      <td>Aug</td>\n",
       "      <td>8</td>\n",
       "      <td>2011</td>\n",
       "      <td>19:28:17 -0000</td>\n",
       "      <td>2011-08-19</td>\n",
       "    </tr>\n",
       "    <tr>\n",
       "      <th>1</th>\n",
       "      <td>126581</td>\n",
       "      <td>Educational Online Trading Card Game</td>\n",
       "      <td>http://www.kickstarter.com/projects/972789543/...</td>\n",
       "      <td>Games</td>\n",
       "      <td>Board_Card Games</td>\n",
       "      <td>Maplewood</td>\n",
       "      <td>NJ</td>\n",
       "      <td>US</td>\n",
       "      <td>failed</td>\n",
       "      <td>0</td>\n",
       "      <td>...</td>\n",
       "      <td>0</td>\n",
       "      <td>47.18</td>\n",
       "      <td>Mon</td>\n",
       "      <td>1</td>\n",
       "      <td>2</td>\n",
       "      <td>Aug</td>\n",
       "      <td>8</td>\n",
       "      <td>2010</td>\n",
       "      <td>03:59:00 -0000</td>\n",
       "      <td>2010-08-02</td>\n",
       "    </tr>\n",
       "    <tr>\n",
       "      <th>2</th>\n",
       "      <td>138119</td>\n",
       "      <td>STRUM</td>\n",
       "      <td>http://www.kickstarter.com/projects/185476022/...</td>\n",
       "      <td>Film_Video</td>\n",
       "      <td>Animation</td>\n",
       "      <td>Los Angeles</td>\n",
       "      <td>CA</td>\n",
       "      <td>US</td>\n",
       "      <td>live</td>\n",
       "      <td>0</td>\n",
       "      <td>...</td>\n",
       "      <td>0</td>\n",
       "      <td>28.00</td>\n",
       "      <td>Fri</td>\n",
       "      <td>5</td>\n",
       "      <td>8</td>\n",
       "      <td>Jun</td>\n",
       "      <td>6</td>\n",
       "      <td>2012</td>\n",
       "      <td>00:00:31 -0000</td>\n",
       "      <td>2012-06-08</td>\n",
       "    </tr>\n",
       "  </tbody>\n",
       "</table>\n",
       "<p>3 rows × 32 columns</p>\n",
       "</div>"
      ],
      "text/plain": [
       "   project id                                  name  \\\n",
       "0       39409                 WHILE THE TREES SLEEP   \n",
       "1      126581  Educational Online Trading Card Game   \n",
       "2      138119                                 STRUM   \n",
       "\n",
       "                                                 url    category  \\\n",
       "0  http://www.kickstarter.com/projects/emiliesaba...  Film_Video   \n",
       "1  http://www.kickstarter.com/projects/972789543/...       Games   \n",
       "2  http://www.kickstarter.com/projects/185476022/...  Film_Video   \n",
       "\n",
       "        subcategory         city state global      status  canceled  \\\n",
       "0        Short Film     Columbia    MO     US  successful         0   \n",
       "1  Board_Card Games    Maplewood    NJ     US      failed         0   \n",
       "2         Animation  Los Angeles    CA     US        live         0   \n",
       "\n",
       "     ...      comments  duration  weekday  weekday_nr  nr_in_month  month  \\\n",
       "0    ...             2     30.00      Fri           5           19    Aug   \n",
       "1    ...             0     47.18      Mon           1            2    Aug   \n",
       "2    ...             0     28.00      Fri           5            8    Jun   \n",
       "\n",
       "   month_nr  year            time       date  \n",
       "0         8  2011  19:28:17 -0000 2011-08-19  \n",
       "1         8  2010  03:59:00 -0000 2010-08-02  \n",
       "2         6  2012  00:00:31 -0000 2012-06-08  \n",
       "\n",
       "[3 rows x 32 columns]"
      ]
     },
     "execution_count": 734,
     "metadata": {},
     "output_type": "execute_result"
    }
   ],
   "source": [
    "data2 = data2[['project id', 'name', 'url', 'category', 'subcategory', 'city', 'state', 'global', 'status', 'canceled',\n",
    "               'failed', 'live', 'successful', 'suspended', 'goal', 'pledged', 'funded percentage', 'backers',\n",
    "               'funded date', 'levels', 'reward levels', 'min reward level', 'updates', 'comments', 'duration', \n",
    "               'weekday', 'weekday_nr', 'nr_in_month', 'month', 'month_nr', 'year', 'time', 'date']]\n",
    "\n",
    "data2.head(3)"
   ]
  },
  {
   "cell_type": "code",
   "execution_count": 735,
   "metadata": {},
   "outputs": [
    {
     "name": "stdout",
     "output_type": "stream",
     "text": [
      "<class 'pandas.core.frame.DataFrame'>\n",
      "Int64Index: 45797 entries, 0 to 45956\n",
      "Data columns (total 32 columns):\n",
      "project id           45797 non-null int64\n",
      "name                 45797 non-null object\n",
      "url                  45797 non-null object\n",
      "category             45797 non-null object\n",
      "subcategory          45797 non-null object\n",
      "city                 45797 non-null object\n",
      "state                45796 non-null object\n",
      "global               45797 non-null object\n",
      "status               45797 non-null object\n",
      "canceled             45797 non-null int64\n",
      "failed               45797 non-null int64\n",
      "live                 45797 non-null int64\n",
      "successful           45797 non-null int64\n",
      "suspended            45797 non-null int64\n",
      "goal                 45797 non-null float64\n",
      "pledged              45797 non-null float64\n",
      "funded percentage    45797 non-null float64\n",
      "backers              45797 non-null int64\n",
      "funded date          45797 non-null object\n",
      "levels               45797 non-null int64\n",
      "reward levels        45797 non-null object\n",
      "updates              45797 non-null int64\n",
      "comments             45797 non-null int64\n",
      "duration             45797 non-null float64\n",
      "weekday              45797 non-null object\n",
      "weekday_nr           45797 non-null int64\n",
      "nr_in_month          45797 non-null int64\n",
      "month                45797 non-null object\n",
      "month_nr             45797 non-null int64\n",
      "year                 45797 non-null int64\n",
      "time                 45797 non-null object\n",
      "date                 45797 non-null datetime64[ns]\n",
      "dtypes: datetime64[ns](1), float64(4), int64(14), object(13)\n",
      "memory usage: 12.8+ MB\n"
     ]
    }
   ],
   "source": [
    "data2.info()"
   ]
  },
  {
   "cell_type": "markdown",
   "metadata": {},
   "source": [
    "## Read data to CSV"
   ]
  },
  {
   "cell_type": "code",
   "execution_count": 736,
   "metadata": {},
   "outputs": [],
   "source": [
    "data2.to_csv('clean_data.csv', index=False)"
   ]
  },
  {
   "cell_type": "code",
   "execution_count": null,
   "metadata": {},
   "outputs": [],
   "source": []
  }
 ],
 "metadata": {
  "kernelspec": {
   "display_name": "Python 3",
   "language": "python",
   "name": "python3"
  },
  "language_info": {
   "codemirror_mode": {
    "name": "ipython",
    "version": 3
   },
   "file_extension": ".py",
   "mimetype": "text/x-python",
   "name": "python",
   "nbconvert_exporter": "python",
   "pygments_lexer": "ipython3",
   "version": "3.7.1"
  }
 },
 "nbformat": 4,
 "nbformat_minor": 2
}
