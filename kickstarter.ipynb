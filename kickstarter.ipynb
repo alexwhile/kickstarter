{
 "cells": [
  {
   "cell_type": "markdown",
   "metadata": {},
   "source": [
    "# Kickstarter"
   ]
  },
  {
   "cell_type": "markdown",
   "metadata": {},
   "source": [
    "What will make your project at Kickstarter successful?"
   ]
  },
  {
   "cell_type": "markdown",
   "metadata": {},
   "source": [
    "## Import stuff"
   ]
  },
  {
   "cell_type": "code",
   "execution_count": 156,
   "metadata": {},
   "outputs": [],
   "source": [
    "import pandas as pd\n",
    "import numpy as np\n",
    "\n",
    "from matplotlib import pyplot as plt\n",
    "import seaborn as sns\n",
    "\n",
    "plt.style.use('fivethirtyeight')\n",
    "\n",
    "%matplotlib inline"
   ]
  },
  {
   "cell_type": "markdown",
   "metadata": {},
   "source": [
    "## Load the data"
   ]
  },
  {
   "cell_type": "code",
   "execution_count": 157,
   "metadata": {},
   "outputs": [],
   "source": [
    "data = pd.read_csv('./DSI_kickstarterscrape_dataset.csv')"
   ]
  },
  {
   "cell_type": "markdown",
   "metadata": {},
   "source": [
    "## Look at the data"
   ]
  },
  {
   "cell_type": "markdown",
   "metadata": {},
   "source": [
    "Take an initial look at the data and especially the columns"
   ]
  },
  {
   "cell_type": "code",
   "execution_count": 158,
   "metadata": {},
   "outputs": [
    {
     "data": {
      "text/html": [
       "<div>\n",
       "<style scoped>\n",
       "    .dataframe tbody tr th:only-of-type {\n",
       "        vertical-align: middle;\n",
       "    }\n",
       "\n",
       "    .dataframe tbody tr th {\n",
       "        vertical-align: top;\n",
       "    }\n",
       "\n",
       "    .dataframe thead th {\n",
       "        text-align: right;\n",
       "    }\n",
       "</style>\n",
       "<table border=\"1\" class=\"dataframe\">\n",
       "  <thead>\n",
       "    <tr style=\"text-align: right;\">\n",
       "      <th></th>\n",
       "      <th>project id</th>\n",
       "      <th>name</th>\n",
       "      <th>url</th>\n",
       "      <th>category</th>\n",
       "      <th>subcategory</th>\n",
       "      <th>location</th>\n",
       "      <th>status</th>\n",
       "      <th>goal</th>\n",
       "      <th>pledged</th>\n",
       "      <th>funded percentage</th>\n",
       "      <th>backers</th>\n",
       "      <th>funded date</th>\n",
       "      <th>levels</th>\n",
       "      <th>reward levels</th>\n",
       "      <th>updates</th>\n",
       "      <th>comments</th>\n",
       "      <th>duration</th>\n",
       "    </tr>\n",
       "  </thead>\n",
       "  <tbody>\n",
       "    <tr>\n",
       "      <th>0</th>\n",
       "      <td>39409</td>\n",
       "      <td>WHILE THE TREES SLEEP</td>\n",
       "      <td>http://www.kickstarter.com/projects/emiliesaba...</td>\n",
       "      <td>Film &amp; Video</td>\n",
       "      <td>Short Film</td>\n",
       "      <td>Columbia, MO</td>\n",
       "      <td>successful</td>\n",
       "      <td>10500.0</td>\n",
       "      <td>11545.0</td>\n",
       "      <td>1.099524</td>\n",
       "      <td>66</td>\n",
       "      <td>Fri, 19 Aug 2011 19:28:17 -0000</td>\n",
       "      <td>7</td>\n",
       "      <td>$25,$50,$100,$250,$500,$1,000,$2,500</td>\n",
       "      <td>10</td>\n",
       "      <td>2</td>\n",
       "      <td>30.00</td>\n",
       "    </tr>\n",
       "    <tr>\n",
       "      <th>1</th>\n",
       "      <td>126581</td>\n",
       "      <td>Educational Online Trading Card Game</td>\n",
       "      <td>http://www.kickstarter.com/projects/972789543/...</td>\n",
       "      <td>Games</td>\n",
       "      <td>Board &amp; Card Games</td>\n",
       "      <td>Maplewood, NJ</td>\n",
       "      <td>failed</td>\n",
       "      <td>4000.0</td>\n",
       "      <td>20.0</td>\n",
       "      <td>0.005000</td>\n",
       "      <td>2</td>\n",
       "      <td>Mon, 02 Aug 2010 03:59:00 -0000</td>\n",
       "      <td>5</td>\n",
       "      <td>$1,$5,$10,$25,$50</td>\n",
       "      <td>6</td>\n",
       "      <td>0</td>\n",
       "      <td>47.18</td>\n",
       "    </tr>\n",
       "    <tr>\n",
       "      <th>2</th>\n",
       "      <td>138119</td>\n",
       "      <td>STRUM</td>\n",
       "      <td>http://www.kickstarter.com/projects/185476022/...</td>\n",
       "      <td>Film &amp; Video</td>\n",
       "      <td>Animation</td>\n",
       "      <td>Los Angeles, CA</td>\n",
       "      <td>live</td>\n",
       "      <td>20000.0</td>\n",
       "      <td>56.0</td>\n",
       "      <td>0.002800</td>\n",
       "      <td>3</td>\n",
       "      <td>Fri, 08 Jun 2012 00:00:31 -0000</td>\n",
       "      <td>10</td>\n",
       "      <td>$1,$10,$25,$40,$50,$100,$250,$1,000,$1,337,$9,001</td>\n",
       "      <td>1</td>\n",
       "      <td>0</td>\n",
       "      <td>28.00</td>\n",
       "    </tr>\n",
       "  </tbody>\n",
       "</table>\n",
       "</div>"
      ],
      "text/plain": [
       "   project id                                  name  \\\n",
       "0       39409                 WHILE THE TREES SLEEP   \n",
       "1      126581  Educational Online Trading Card Game   \n",
       "2      138119                                 STRUM   \n",
       "\n",
       "                                                 url      category  \\\n",
       "0  http://www.kickstarter.com/projects/emiliesaba...  Film & Video   \n",
       "1  http://www.kickstarter.com/projects/972789543/...         Games   \n",
       "2  http://www.kickstarter.com/projects/185476022/...  Film & Video   \n",
       "\n",
       "          subcategory         location      status     goal  pledged  \\\n",
       "0          Short Film     Columbia, MO  successful  10500.0  11545.0   \n",
       "1  Board & Card Games    Maplewood, NJ      failed   4000.0     20.0   \n",
       "2           Animation  Los Angeles, CA        live  20000.0     56.0   \n",
       "\n",
       "   funded percentage  backers                      funded date  levels  \\\n",
       "0           1.099524       66  Fri, 19 Aug 2011 19:28:17 -0000       7   \n",
       "1           0.005000        2  Mon, 02 Aug 2010 03:59:00 -0000       5   \n",
       "2           0.002800        3  Fri, 08 Jun 2012 00:00:31 -0000      10   \n",
       "\n",
       "                                       reward levels  updates  comments  \\\n",
       "0               $25,$50,$100,$250,$500,$1,000,$2,500       10         2   \n",
       "1                                  $1,$5,$10,$25,$50        6         0   \n",
       "2  $1,$10,$25,$40,$50,$100,$250,$1,000,$1,337,$9,001        1         0   \n",
       "\n",
       "   duration  \n",
       "0     30.00  \n",
       "1     47.18  \n",
       "2     28.00  "
      ]
     },
     "execution_count": 158,
     "metadata": {},
     "output_type": "execute_result"
    }
   ],
   "source": [
    "data.head(3)"
   ]
  },
  {
   "cell_type": "markdown",
   "metadata": {},
   "source": [
    "How many rows and columns"
   ]
  },
  {
   "cell_type": "code",
   "execution_count": 159,
   "metadata": {},
   "outputs": [
    {
     "data": {
      "text/plain": [
       "(45957, 17)"
      ]
     },
     "execution_count": 159,
     "metadata": {},
     "output_type": "execute_result"
    }
   ],
   "source": [
    "data.shape"
   ]
  },
  {
   "cell_type": "markdown",
   "metadata": {},
   "source": [
    "Get more info about the data"
   ]
  },
  {
   "cell_type": "code",
   "execution_count": 160,
   "metadata": {},
   "outputs": [
    {
     "name": "stdout",
     "output_type": "stream",
     "text": [
      "<class 'pandas.core.frame.DataFrame'>\n",
      "RangeIndex: 45957 entries, 0 to 45956\n",
      "Data columns (total 17 columns):\n",
      "project id           45957 non-null int64\n",
      "name                 45957 non-null object\n",
      "url                  45957 non-null object\n",
      "category             45957 non-null object\n",
      "subcategory          45957 non-null object\n",
      "location             44635 non-null object\n",
      "status               45957 non-null object\n",
      "goal                 45957 non-null float64\n",
      "pledged              45945 non-null float64\n",
      "funded percentage    45957 non-null float64\n",
      "backers              45957 non-null int64\n",
      "funded date          45957 non-null object\n",
      "levels               45957 non-null int64\n",
      "reward levels        45898 non-null object\n",
      "updates              45957 non-null int64\n",
      "comments             45957 non-null int64\n",
      "duration             45957 non-null float64\n",
      "dtypes: float64(4), int64(5), object(8)\n",
      "memory usage: 6.0+ MB\n"
     ]
    }
   ],
   "source": [
    "data.info()"
   ]
  },
  {
   "cell_type": "markdown",
   "metadata": {},
   "source": [
    "Get more info about missing data"
   ]
  },
  {
   "cell_type": "code",
   "execution_count": 161,
   "metadata": {},
   "outputs": [
    {
     "data": {
      "text/plain": [
       "project id              0\n",
       "name                    0\n",
       "url                     0\n",
       "category                0\n",
       "subcategory             0\n",
       "location             1322\n",
       "status                  0\n",
       "goal                    0\n",
       "pledged                12\n",
       "funded percentage       0\n",
       "backers                 0\n",
       "funded date             0\n",
       "levels                  0\n",
       "reward levels          59\n",
       "updates                 0\n",
       "comments                0\n",
       "duration                0\n",
       "dtype: int64"
      ]
     },
     "execution_count": 161,
     "metadata": {},
     "output_type": "execute_result"
    }
   ],
   "source": [
    "data.isnull().sum()"
   ]
  },
  {
   "cell_type": "markdown",
   "metadata": {},
   "source": [
    "Look for duplicates"
   ]
  },
  {
   "cell_type": "code",
   "execution_count": 162,
   "metadata": {},
   "outputs": [
    {
     "data": {
      "text/plain": [
       "89"
      ]
     },
     "execution_count": 162,
     "metadata": {},
     "output_type": "execute_result"
    }
   ],
   "source": [
    "data.duplicated().sum()"
   ]
  },
  {
   "cell_type": "markdown",
   "metadata": {},
   "source": [
    "Get statistical info about the data (might need to be redone after other things are fixed with the data). Here we can also see signs of outliers."
   ]
  },
  {
   "cell_type": "code",
   "execution_count": 193,
   "metadata": {},
   "outputs": [
    {
     "data": {
      "text/html": [
       "<div>\n",
       "<style scoped>\n",
       "    .dataframe tbody tr th:only-of-type {\n",
       "        vertical-align: middle;\n",
       "    }\n",
       "\n",
       "    .dataframe tbody tr th {\n",
       "        vertical-align: top;\n",
       "    }\n",
       "\n",
       "    .dataframe thead th {\n",
       "        text-align: right;\n",
       "    }\n",
       "</style>\n",
       "<table border=\"1\" class=\"dataframe\">\n",
       "  <thead>\n",
       "    <tr style=\"text-align: right;\">\n",
       "      <th></th>\n",
       "      <th>project id</th>\n",
       "      <th>goal</th>\n",
       "      <th>pledged</th>\n",
       "      <th>funded percentage</th>\n",
       "      <th>backers</th>\n",
       "      <th>levels</th>\n",
       "      <th>updates</th>\n",
       "      <th>comments</th>\n",
       "      <th>duration</th>\n",
       "      <th>weekday_nr</th>\n",
       "      <th>nr_in_month</th>\n",
       "      <th>month_nr</th>\n",
       "      <th>year</th>\n",
       "    </tr>\n",
       "  </thead>\n",
       "  <tbody>\n",
       "    <tr>\n",
       "      <th>count</th>\n",
       "      <td>4.595700e+04</td>\n",
       "      <td>4.595700e+04</td>\n",
       "      <td>4.594500e+04</td>\n",
       "      <td>45957.000000</td>\n",
       "      <td>45957.000000</td>\n",
       "      <td>45957.000000</td>\n",
       "      <td>45957.00000</td>\n",
       "      <td>45957.000000</td>\n",
       "      <td>45957.000000</td>\n",
       "      <td>45957.000000</td>\n",
       "      <td>45957.000000</td>\n",
       "      <td>45957.000000</td>\n",
       "      <td>45957.000000</td>\n",
       "    </tr>\n",
       "    <tr>\n",
       "      <th>mean</th>\n",
       "      <td>1.080800e+09</td>\n",
       "      <td>1.194271e+04</td>\n",
       "      <td>4.980750e+03</td>\n",
       "      <td>1.850129</td>\n",
       "      <td>69.973192</td>\n",
       "      <td>8.004939</td>\n",
       "      <td>4.08508</td>\n",
       "      <td>8.379529</td>\n",
       "      <td>39.995547</td>\n",
       "      <td>4.126488</td>\n",
       "      <td>14.915203</td>\n",
       "      <td>6.087255</td>\n",
       "      <td>2011.199513</td>\n",
       "    </tr>\n",
       "    <tr>\n",
       "      <th>std</th>\n",
       "      <td>6.218057e+08</td>\n",
       "      <td>1.887583e+05</td>\n",
       "      <td>5.674162e+04</td>\n",
       "      <td>88.492706</td>\n",
       "      <td>688.628479</td>\n",
       "      <td>4.233907</td>\n",
       "      <td>6.43922</td>\n",
       "      <td>174.015737</td>\n",
       "      <td>17.414458</td>\n",
       "      <td>2.019067</td>\n",
       "      <td>9.118437</td>\n",
       "      <td>3.185649</td>\n",
       "      <td>0.752830</td>\n",
       "    </tr>\n",
       "    <tr>\n",
       "      <th>min</th>\n",
       "      <td>3.940900e+04</td>\n",
       "      <td>1.000000e-02</td>\n",
       "      <td>0.000000e+00</td>\n",
       "      <td>0.000000</td>\n",
       "      <td>0.000000</td>\n",
       "      <td>0.000000</td>\n",
       "      <td>0.00000</td>\n",
       "      <td>0.000000</td>\n",
       "      <td>1.000000</td>\n",
       "      <td>1.000000</td>\n",
       "      <td>1.000000</td>\n",
       "      <td>1.000000</td>\n",
       "      <td>2009.000000</td>\n",
       "    </tr>\n",
       "    <tr>\n",
       "      <th>25%</th>\n",
       "      <td>5.438962e+08</td>\n",
       "      <td>1.800000e+03</td>\n",
       "      <td>1.960000e+02</td>\n",
       "      <td>0.044000</td>\n",
       "      <td>5.000000</td>\n",
       "      <td>5.000000</td>\n",
       "      <td>0.00000</td>\n",
       "      <td>0.000000</td>\n",
       "      <td>30.000000</td>\n",
       "      <td>2.000000</td>\n",
       "      <td>7.000000</td>\n",
       "      <td>4.000000</td>\n",
       "      <td>2011.000000</td>\n",
       "    </tr>\n",
       "    <tr>\n",
       "      <th>50%</th>\n",
       "      <td>1.078345e+09</td>\n",
       "      <td>4.000000e+03</td>\n",
       "      <td>1.310000e+03</td>\n",
       "      <td>1.000000</td>\n",
       "      <td>23.000000</td>\n",
       "      <td>7.000000</td>\n",
       "      <td>2.00000</td>\n",
       "      <td>0.000000</td>\n",
       "      <td>32.000000</td>\n",
       "      <td>4.000000</td>\n",
       "      <td>15.000000</td>\n",
       "      <td>6.000000</td>\n",
       "      <td>2011.000000</td>\n",
       "    </tr>\n",
       "    <tr>\n",
       "      <th>75%</th>\n",
       "      <td>1.621596e+09</td>\n",
       "      <td>9.862000e+03</td>\n",
       "      <td>4.165000e+03</td>\n",
       "      <td>1.115640</td>\n",
       "      <td>59.000000</td>\n",
       "      <td>10.000000</td>\n",
       "      <td>6.00000</td>\n",
       "      <td>3.000000</td>\n",
       "      <td>48.390000</td>\n",
       "      <td>6.000000</td>\n",
       "      <td>23.000000</td>\n",
       "      <td>9.000000</td>\n",
       "      <td>2012.000000</td>\n",
       "    </tr>\n",
       "    <tr>\n",
       "      <th>max</th>\n",
       "      <td>2.147460e+09</td>\n",
       "      <td>2.147484e+07</td>\n",
       "      <td>1.026684e+07</td>\n",
       "      <td>15066.000000</td>\n",
       "      <td>87142.000000</td>\n",
       "      <td>80.000000</td>\n",
       "      <td>149.00000</td>\n",
       "      <td>19311.000000</td>\n",
       "      <td>91.960000</td>\n",
       "      <td>7.000000</td>\n",
       "      <td>31.000000</td>\n",
       "      <td>12.000000</td>\n",
       "      <td>2012.000000</td>\n",
       "    </tr>\n",
       "  </tbody>\n",
       "</table>\n",
       "</div>"
      ],
      "text/plain": [
       "         project id          goal       pledged  funded percentage  \\\n",
       "count  4.595700e+04  4.595700e+04  4.594500e+04       45957.000000   \n",
       "mean   1.080800e+09  1.194271e+04  4.980750e+03           1.850129   \n",
       "std    6.218057e+08  1.887583e+05  5.674162e+04          88.492706   \n",
       "min    3.940900e+04  1.000000e-02  0.000000e+00           0.000000   \n",
       "25%    5.438962e+08  1.800000e+03  1.960000e+02           0.044000   \n",
       "50%    1.078345e+09  4.000000e+03  1.310000e+03           1.000000   \n",
       "75%    1.621596e+09  9.862000e+03  4.165000e+03           1.115640   \n",
       "max    2.147460e+09  2.147484e+07  1.026684e+07       15066.000000   \n",
       "\n",
       "            backers        levels      updates      comments      duration  \\\n",
       "count  45957.000000  45957.000000  45957.00000  45957.000000  45957.000000   \n",
       "mean      69.973192      8.004939      4.08508      8.379529     39.995547   \n",
       "std      688.628479      4.233907      6.43922    174.015737     17.414458   \n",
       "min        0.000000      0.000000      0.00000      0.000000      1.000000   \n",
       "25%        5.000000      5.000000      0.00000      0.000000     30.000000   \n",
       "50%       23.000000      7.000000      2.00000      0.000000     32.000000   \n",
       "75%       59.000000     10.000000      6.00000      3.000000     48.390000   \n",
       "max    87142.000000     80.000000    149.00000  19311.000000     91.960000   \n",
       "\n",
       "         weekday_nr   nr_in_month      month_nr          year  \n",
       "count  45957.000000  45957.000000  45957.000000  45957.000000  \n",
       "mean       4.126488     14.915203      6.087255   2011.199513  \n",
       "std        2.019067      9.118437      3.185649      0.752830  \n",
       "min        1.000000      1.000000      1.000000   2009.000000  \n",
       "25%        2.000000      7.000000      4.000000   2011.000000  \n",
       "50%        4.000000     15.000000      6.000000   2011.000000  \n",
       "75%        6.000000     23.000000      9.000000   2012.000000  \n",
       "max        7.000000     31.000000     12.000000   2012.000000  "
      ]
     },
     "execution_count": 193,
     "metadata": {},
     "output_type": "execute_result"
    }
   ],
   "source": [
    "data.describe()"
   ]
  },
  {
   "cell_type": "markdown",
   "metadata": {},
   "source": [
    "### What I need to fix"
   ]
  },
  {
   "cell_type": "markdown",
   "metadata": {},
   "source": [
    "- Category column: Make dummies out of categories - make dummies or use group by? \n",
    "- Subcategory column: Make dummies out of subcategories - make dummies or use group by? \n",
    "- Location column: Split into 2 new columns (city and state) - make dummies or use group by? \n",
    "- Status column: Give the status numbers. (1 = successful, 2 = failed, 3 = live)\n",
    "- Reward levels column: Make one column for each input (dummy?)...Make numeric\n",
    "\n",
    "\n",
    "Handle missing values.<BR/>\n",
    "Look for duplicates.<BR/>\n",
    "Look for outliers.<BR/>\n",
    "..."
   ]
  },
  {
   "cell_type": "markdown",
   "metadata": {},
   "source": [
    "## Work the data (EDA/Munging)"
   ]
  },
  {
   "cell_type": "markdown",
   "metadata": {},
   "source": [
    "### Duplicates"
   ]
  },
  {
   "cell_type": "markdown",
   "metadata": {},
   "source": [
    "#### Handle"
   ]
  },
  {
   "cell_type": "code",
   "execution_count": null,
   "metadata": {},
   "outputs": [],
   "source": []
  },
  {
   "cell_type": "markdown",
   "metadata": {},
   "source": [
    "### Missing values"
   ]
  },
  {
   "cell_type": "code",
   "execution_count": null,
   "metadata": {},
   "outputs": [],
   "source": []
  },
  {
   "cell_type": "markdown",
   "metadata": {},
   "source": [
    "### Check for outliers"
   ]
  },
  {
   "cell_type": "code",
   "execution_count": 194,
   "metadata": {},
   "outputs": [
    {
     "data": {
      "text/html": [
       "<div>\n",
       "<style scoped>\n",
       "    .dataframe tbody tr th:only-of-type {\n",
       "        vertical-align: middle;\n",
       "    }\n",
       "\n",
       "    .dataframe tbody tr th {\n",
       "        vertical-align: top;\n",
       "    }\n",
       "\n",
       "    .dataframe thead th {\n",
       "        text-align: right;\n",
       "    }\n",
       "</style>\n",
       "<table border=\"1\" class=\"dataframe\">\n",
       "  <thead>\n",
       "    <tr style=\"text-align: right;\">\n",
       "      <th></th>\n",
       "      <th>project id</th>\n",
       "      <th>goal</th>\n",
       "      <th>pledged</th>\n",
       "      <th>funded percentage</th>\n",
       "      <th>backers</th>\n",
       "      <th>levels</th>\n",
       "      <th>updates</th>\n",
       "      <th>comments</th>\n",
       "      <th>duration</th>\n",
       "      <th>weekday_nr</th>\n",
       "      <th>nr_in_month</th>\n",
       "      <th>month_nr</th>\n",
       "      <th>year</th>\n",
       "    </tr>\n",
       "  </thead>\n",
       "  <tbody>\n",
       "    <tr>\n",
       "      <th>count</th>\n",
       "      <td>4.595700e+04</td>\n",
       "      <td>4.595700e+04</td>\n",
       "      <td>4.594500e+04</td>\n",
       "      <td>45957.000000</td>\n",
       "      <td>45957.000000</td>\n",
       "      <td>45957.000000</td>\n",
       "      <td>45957.00000</td>\n",
       "      <td>45957.000000</td>\n",
       "      <td>45957.000000</td>\n",
       "      <td>45957.000000</td>\n",
       "      <td>45957.000000</td>\n",
       "      <td>45957.000000</td>\n",
       "      <td>45957.000000</td>\n",
       "    </tr>\n",
       "    <tr>\n",
       "      <th>mean</th>\n",
       "      <td>1.080800e+09</td>\n",
       "      <td>1.194271e+04</td>\n",
       "      <td>4.980750e+03</td>\n",
       "      <td>1.850129</td>\n",
       "      <td>69.973192</td>\n",
       "      <td>8.004939</td>\n",
       "      <td>4.08508</td>\n",
       "      <td>8.379529</td>\n",
       "      <td>39.995547</td>\n",
       "      <td>4.126488</td>\n",
       "      <td>14.915203</td>\n",
       "      <td>6.087255</td>\n",
       "      <td>2011.199513</td>\n",
       "    </tr>\n",
       "    <tr>\n",
       "      <th>std</th>\n",
       "      <td>6.218057e+08</td>\n",
       "      <td>1.887583e+05</td>\n",
       "      <td>5.674162e+04</td>\n",
       "      <td>88.492706</td>\n",
       "      <td>688.628479</td>\n",
       "      <td>4.233907</td>\n",
       "      <td>6.43922</td>\n",
       "      <td>174.015737</td>\n",
       "      <td>17.414458</td>\n",
       "      <td>2.019067</td>\n",
       "      <td>9.118437</td>\n",
       "      <td>3.185649</td>\n",
       "      <td>0.752830</td>\n",
       "    </tr>\n",
       "    <tr>\n",
       "      <th>min</th>\n",
       "      <td>3.940900e+04</td>\n",
       "      <td>1.000000e-02</td>\n",
       "      <td>0.000000e+00</td>\n",
       "      <td>0.000000</td>\n",
       "      <td>0.000000</td>\n",
       "      <td>0.000000</td>\n",
       "      <td>0.00000</td>\n",
       "      <td>0.000000</td>\n",
       "      <td>1.000000</td>\n",
       "      <td>1.000000</td>\n",
       "      <td>1.000000</td>\n",
       "      <td>1.000000</td>\n",
       "      <td>2009.000000</td>\n",
       "    </tr>\n",
       "    <tr>\n",
       "      <th>25%</th>\n",
       "      <td>5.438962e+08</td>\n",
       "      <td>1.800000e+03</td>\n",
       "      <td>1.960000e+02</td>\n",
       "      <td>0.044000</td>\n",
       "      <td>5.000000</td>\n",
       "      <td>5.000000</td>\n",
       "      <td>0.00000</td>\n",
       "      <td>0.000000</td>\n",
       "      <td>30.000000</td>\n",
       "      <td>2.000000</td>\n",
       "      <td>7.000000</td>\n",
       "      <td>4.000000</td>\n",
       "      <td>2011.000000</td>\n",
       "    </tr>\n",
       "    <tr>\n",
       "      <th>50%</th>\n",
       "      <td>1.078345e+09</td>\n",
       "      <td>4.000000e+03</td>\n",
       "      <td>1.310000e+03</td>\n",
       "      <td>1.000000</td>\n",
       "      <td>23.000000</td>\n",
       "      <td>7.000000</td>\n",
       "      <td>2.00000</td>\n",
       "      <td>0.000000</td>\n",
       "      <td>32.000000</td>\n",
       "      <td>4.000000</td>\n",
       "      <td>15.000000</td>\n",
       "      <td>6.000000</td>\n",
       "      <td>2011.000000</td>\n",
       "    </tr>\n",
       "    <tr>\n",
       "      <th>75%</th>\n",
       "      <td>1.621596e+09</td>\n",
       "      <td>9.862000e+03</td>\n",
       "      <td>4.165000e+03</td>\n",
       "      <td>1.115640</td>\n",
       "      <td>59.000000</td>\n",
       "      <td>10.000000</td>\n",
       "      <td>6.00000</td>\n",
       "      <td>3.000000</td>\n",
       "      <td>48.390000</td>\n",
       "      <td>6.000000</td>\n",
       "      <td>23.000000</td>\n",
       "      <td>9.000000</td>\n",
       "      <td>2012.000000</td>\n",
       "    </tr>\n",
       "    <tr>\n",
       "      <th>max</th>\n",
       "      <td>2.147460e+09</td>\n",
       "      <td>2.147484e+07</td>\n",
       "      <td>1.026684e+07</td>\n",
       "      <td>15066.000000</td>\n",
       "      <td>87142.000000</td>\n",
       "      <td>80.000000</td>\n",
       "      <td>149.00000</td>\n",
       "      <td>19311.000000</td>\n",
       "      <td>91.960000</td>\n",
       "      <td>7.000000</td>\n",
       "      <td>31.000000</td>\n",
       "      <td>12.000000</td>\n",
       "      <td>2012.000000</td>\n",
       "    </tr>\n",
       "  </tbody>\n",
       "</table>\n",
       "</div>"
      ],
      "text/plain": [
       "         project id          goal       pledged  funded percentage  \\\n",
       "count  4.595700e+04  4.595700e+04  4.594500e+04       45957.000000   \n",
       "mean   1.080800e+09  1.194271e+04  4.980750e+03           1.850129   \n",
       "std    6.218057e+08  1.887583e+05  5.674162e+04          88.492706   \n",
       "min    3.940900e+04  1.000000e-02  0.000000e+00           0.000000   \n",
       "25%    5.438962e+08  1.800000e+03  1.960000e+02           0.044000   \n",
       "50%    1.078345e+09  4.000000e+03  1.310000e+03           1.000000   \n",
       "75%    1.621596e+09  9.862000e+03  4.165000e+03           1.115640   \n",
       "max    2.147460e+09  2.147484e+07  1.026684e+07       15066.000000   \n",
       "\n",
       "            backers        levels      updates      comments      duration  \\\n",
       "count  45957.000000  45957.000000  45957.00000  45957.000000  45957.000000   \n",
       "mean      69.973192      8.004939      4.08508      8.379529     39.995547   \n",
       "std      688.628479      4.233907      6.43922    174.015737     17.414458   \n",
       "min        0.000000      0.000000      0.00000      0.000000      1.000000   \n",
       "25%        5.000000      5.000000      0.00000      0.000000     30.000000   \n",
       "50%       23.000000      7.000000      2.00000      0.000000     32.000000   \n",
       "75%       59.000000     10.000000      6.00000      3.000000     48.390000   \n",
       "max    87142.000000     80.000000    149.00000  19311.000000     91.960000   \n",
       "\n",
       "         weekday_nr   nr_in_month      month_nr          year  \n",
       "count  45957.000000  45957.000000  45957.000000  45957.000000  \n",
       "mean       4.126488     14.915203      6.087255   2011.199513  \n",
       "std        2.019067      9.118437      3.185649      0.752830  \n",
       "min        1.000000      1.000000      1.000000   2009.000000  \n",
       "25%        2.000000      7.000000      4.000000   2011.000000  \n",
       "50%        4.000000     15.000000      6.000000   2011.000000  \n",
       "75%        6.000000     23.000000      9.000000   2012.000000  \n",
       "max        7.000000     31.000000     12.000000   2012.000000  "
      ]
     },
     "execution_count": 194,
     "metadata": {},
     "output_type": "execute_result"
    }
   ],
   "source": [
    "data.describe()"
   ]
  },
  {
   "cell_type": "markdown",
   "metadata": {},
   "source": [
    "### funded date column: Split column into different columns"
   ]
  },
  {
   "cell_type": "code",
   "execution_count": 164,
   "metadata": {},
   "outputs": [
    {
     "data": {
      "text/plain": [
       "0    Fri, 19 Aug 2011 19:28:17 -0000\n",
       "1    Mon, 02 Aug 2010 03:59:00 -0000\n",
       "2    Fri, 08 Jun 2012 00:00:31 -0000\n",
       "3    Sun, 08 Apr 2012 02:14:00 -0000\n",
       "4    Wed, 01 Jun 2011 15:25:39 -0000\n",
       "Name: funded date, dtype: object"
      ]
     },
     "execution_count": 164,
     "metadata": {},
     "output_type": "execute_result"
    }
   ],
   "source": [
    "data['funded date'].head()"
   ]
  },
  {
   "cell_type": "code",
   "execution_count": 165,
   "metadata": {
    "scrolled": true
   },
   "outputs": [],
   "source": [
    "new_date = data['funded date'].str.split(\", \", n=1, expand=True)\n",
    "data[\"weekday\"]= new_date[0] \n",
    "data[\"date\"]= new_date[1] "
   ]
  },
  {
   "cell_type": "code",
   "execution_count": 166,
   "metadata": {},
   "outputs": [],
   "source": [
    "new_date2 = data['date'].str.split(\" \", n=1, expand=True)\n",
    "data[\"nr_in_month\"]= new_date2[0] \n",
    "data[\"date2\"]= new_date2[1] "
   ]
  },
  {
   "cell_type": "code",
   "execution_count": 167,
   "metadata": {},
   "outputs": [],
   "source": [
    "new_date3 = data['date2'].str.split(\" \", n=1, expand=True)\n",
    "data[\"month\"]= new_date3[0] \n",
    "data[\"date3\"]= new_date3[1] "
   ]
  },
  {
   "cell_type": "code",
   "execution_count": 168,
   "metadata": {},
   "outputs": [],
   "source": [
    "new_date4 = data['date3'].str.split(\" \", n=1, expand=True)\n",
    "data[\"year\"]= new_date4[0] \n",
    "data[\"time\"]= new_date4[1] "
   ]
  },
  {
   "cell_type": "code",
   "execution_count": 169,
   "metadata": {},
   "outputs": [],
   "source": [
    "# remove columns not needed\n",
    "data = data.drop(['date', 'date2', 'date3'], axis=1)"
   ]
  },
  {
   "cell_type": "code",
   "execution_count": 170,
   "metadata": {},
   "outputs": [],
   "source": [
    "### Make day column to number (1 = monday, 2 = tuesday etc.)\n",
    "data['weekday_nr'] = data['weekday'].replace({'Mon': 1, 'Tue': 2, 'Wed': 3, 'Thu': 4, 'Fri': 5, 'Sat': 6, 'Sun':7})"
   ]
  },
  {
   "cell_type": "code",
   "execution_count": 171,
   "metadata": {},
   "outputs": [],
   "source": [
    "### Make month column to number (1 = jan, 2 = feb etc.)\n",
    "data['month_nr'] = data['month'].replace({'Jan': '01', 'Feb': '02', 'Mar': '03', 'Apr': '04', 'May': '05', \n",
    "                                          'Jun': '06', 'Jul':'07', 'Aug': '08', 'Sep': '09', 'Oct': '10', \n",
    "                                          'Nov': '11', 'Dec': '12'})"
   ]
  },
  {
   "cell_type": "code",
   "execution_count": 172,
   "metadata": {},
   "outputs": [],
   "source": [
    "### Combind day_nr, month_nr and year (all objects)"
   ]
  },
  {
   "cell_type": "code",
   "execution_count": 173,
   "metadata": {},
   "outputs": [],
   "source": [
    "data['date'] = data['month_nr'] + '/' + data['nr_in_month'] + '/' + data['year']"
   ]
  },
  {
   "cell_type": "code",
   "execution_count": 174,
   "metadata": {},
   "outputs": [
    {
     "data": {
      "text/html": [
       "<div>\n",
       "<style scoped>\n",
       "    .dataframe tbody tr th:only-of-type {\n",
       "        vertical-align: middle;\n",
       "    }\n",
       "\n",
       "    .dataframe tbody tr th {\n",
       "        vertical-align: top;\n",
       "    }\n",
       "\n",
       "    .dataframe thead th {\n",
       "        text-align: right;\n",
       "    }\n",
       "</style>\n",
       "<table border=\"1\" class=\"dataframe\">\n",
       "  <thead>\n",
       "    <tr style=\"text-align: right;\">\n",
       "      <th></th>\n",
       "      <th>project id</th>\n",
       "      <th>name</th>\n",
       "      <th>url</th>\n",
       "      <th>category</th>\n",
       "      <th>subcategory</th>\n",
       "      <th>location</th>\n",
       "      <th>status</th>\n",
       "      <th>goal</th>\n",
       "      <th>pledged</th>\n",
       "      <th>funded percentage</th>\n",
       "      <th>...</th>\n",
       "      <th>comments</th>\n",
       "      <th>duration</th>\n",
       "      <th>weekday</th>\n",
       "      <th>nr_in_month</th>\n",
       "      <th>month</th>\n",
       "      <th>year</th>\n",
       "      <th>time</th>\n",
       "      <th>weekday_nr</th>\n",
       "      <th>month_nr</th>\n",
       "      <th>date</th>\n",
       "    </tr>\n",
       "  </thead>\n",
       "  <tbody>\n",
       "    <tr>\n",
       "      <th>0</th>\n",
       "      <td>39409</td>\n",
       "      <td>WHILE THE TREES SLEEP</td>\n",
       "      <td>http://www.kickstarter.com/projects/emiliesaba...</td>\n",
       "      <td>Film &amp; Video</td>\n",
       "      <td>Short Film</td>\n",
       "      <td>Columbia, MO</td>\n",
       "      <td>successful</td>\n",
       "      <td>10500.0</td>\n",
       "      <td>11545.0</td>\n",
       "      <td>1.099524</td>\n",
       "      <td>...</td>\n",
       "      <td>2</td>\n",
       "      <td>30.00</td>\n",
       "      <td>Fri</td>\n",
       "      <td>19</td>\n",
       "      <td>Aug</td>\n",
       "      <td>2011</td>\n",
       "      <td>19:28:17 -0000</td>\n",
       "      <td>5</td>\n",
       "      <td>08</td>\n",
       "      <td>08/19/2011</td>\n",
       "    </tr>\n",
       "    <tr>\n",
       "      <th>1</th>\n",
       "      <td>126581</td>\n",
       "      <td>Educational Online Trading Card Game</td>\n",
       "      <td>http://www.kickstarter.com/projects/972789543/...</td>\n",
       "      <td>Games</td>\n",
       "      <td>Board &amp; Card Games</td>\n",
       "      <td>Maplewood, NJ</td>\n",
       "      <td>failed</td>\n",
       "      <td>4000.0</td>\n",
       "      <td>20.0</td>\n",
       "      <td>0.005000</td>\n",
       "      <td>...</td>\n",
       "      <td>0</td>\n",
       "      <td>47.18</td>\n",
       "      <td>Mon</td>\n",
       "      <td>02</td>\n",
       "      <td>Aug</td>\n",
       "      <td>2010</td>\n",
       "      <td>03:59:00 -0000</td>\n",
       "      <td>1</td>\n",
       "      <td>08</td>\n",
       "      <td>08/02/2010</td>\n",
       "    </tr>\n",
       "    <tr>\n",
       "      <th>2</th>\n",
       "      <td>138119</td>\n",
       "      <td>STRUM</td>\n",
       "      <td>http://www.kickstarter.com/projects/185476022/...</td>\n",
       "      <td>Film &amp; Video</td>\n",
       "      <td>Animation</td>\n",
       "      <td>Los Angeles, CA</td>\n",
       "      <td>live</td>\n",
       "      <td>20000.0</td>\n",
       "      <td>56.0</td>\n",
       "      <td>0.002800</td>\n",
       "      <td>...</td>\n",
       "      <td>0</td>\n",
       "      <td>28.00</td>\n",
       "      <td>Fri</td>\n",
       "      <td>08</td>\n",
       "      <td>Jun</td>\n",
       "      <td>2012</td>\n",
       "      <td>00:00:31 -0000</td>\n",
       "      <td>5</td>\n",
       "      <td>06</td>\n",
       "      <td>06/08/2012</td>\n",
       "    </tr>\n",
       "  </tbody>\n",
       "</table>\n",
       "<p>3 rows × 25 columns</p>\n",
       "</div>"
      ],
      "text/plain": [
       "   project id                                  name  \\\n",
       "0       39409                 WHILE THE TREES SLEEP   \n",
       "1      126581  Educational Online Trading Card Game   \n",
       "2      138119                                 STRUM   \n",
       "\n",
       "                                                 url      category  \\\n",
       "0  http://www.kickstarter.com/projects/emiliesaba...  Film & Video   \n",
       "1  http://www.kickstarter.com/projects/972789543/...         Games   \n",
       "2  http://www.kickstarter.com/projects/185476022/...  Film & Video   \n",
       "\n",
       "          subcategory         location      status     goal  pledged  \\\n",
       "0          Short Film     Columbia, MO  successful  10500.0  11545.0   \n",
       "1  Board & Card Games    Maplewood, NJ      failed   4000.0     20.0   \n",
       "2           Animation  Los Angeles, CA        live  20000.0     56.0   \n",
       "\n",
       "   funded percentage     ...      comments duration  weekday nr_in_month  \\\n",
       "0           1.099524     ...             2    30.00      Fri          19   \n",
       "1           0.005000     ...             0    47.18      Mon          02   \n",
       "2           0.002800     ...             0    28.00      Fri          08   \n",
       "\n",
       "   month  year            time weekday_nr month_nr        date  \n",
       "0    Aug  2011  19:28:17 -0000          5       08  08/19/2011  \n",
       "1    Aug  2010  03:59:00 -0000          1       08  08/02/2010  \n",
       "2    Jun  2012  00:00:31 -0000          5       06  06/08/2012  \n",
       "\n",
       "[3 rows x 25 columns]"
      ]
     },
     "execution_count": 174,
     "metadata": {},
     "output_type": "execute_result"
    }
   ],
   "source": [
    "data.head(3)"
   ]
  },
  {
   "cell_type": "code",
   "execution_count": 175,
   "metadata": {},
   "outputs": [],
   "source": [
    "### Make date time format"
   ]
  },
  {
   "cell_type": "code",
   "execution_count": 176,
   "metadata": {},
   "outputs": [],
   "source": [
    "data['date'] = pd.to_datetime(data['date'], format='%m/%d/%Y')"
   ]
  },
  {
   "cell_type": "code",
   "execution_count": 178,
   "metadata": {},
   "outputs": [
    {
     "data": {
      "text/html": [
       "<div>\n",
       "<style scoped>\n",
       "    .dataframe tbody tr th:only-of-type {\n",
       "        vertical-align: middle;\n",
       "    }\n",
       "\n",
       "    .dataframe tbody tr th {\n",
       "        vertical-align: top;\n",
       "    }\n",
       "\n",
       "    .dataframe thead th {\n",
       "        text-align: right;\n",
       "    }\n",
       "</style>\n",
       "<table border=\"1\" class=\"dataframe\">\n",
       "  <thead>\n",
       "    <tr style=\"text-align: right;\">\n",
       "      <th></th>\n",
       "      <th>project id</th>\n",
       "      <th>name</th>\n",
       "      <th>url</th>\n",
       "      <th>category</th>\n",
       "      <th>subcategory</th>\n",
       "      <th>location</th>\n",
       "      <th>status</th>\n",
       "      <th>goal</th>\n",
       "      <th>pledged</th>\n",
       "      <th>funded percentage</th>\n",
       "      <th>...</th>\n",
       "      <th>comments</th>\n",
       "      <th>duration</th>\n",
       "      <th>weekday</th>\n",
       "      <th>weekday_nr</th>\n",
       "      <th>nr_in_month</th>\n",
       "      <th>month</th>\n",
       "      <th>month_nr</th>\n",
       "      <th>year</th>\n",
       "      <th>time</th>\n",
       "      <th>date</th>\n",
       "    </tr>\n",
       "  </thead>\n",
       "  <tbody>\n",
       "    <tr>\n",
       "      <th>0</th>\n",
       "      <td>39409</td>\n",
       "      <td>WHILE THE TREES SLEEP</td>\n",
       "      <td>http://www.kickstarter.com/projects/emiliesaba...</td>\n",
       "      <td>Film &amp; Video</td>\n",
       "      <td>Short Film</td>\n",
       "      <td>Columbia, MO</td>\n",
       "      <td>successful</td>\n",
       "      <td>10500.0</td>\n",
       "      <td>11545.0</td>\n",
       "      <td>1.099524</td>\n",
       "      <td>...</td>\n",
       "      <td>2</td>\n",
       "      <td>30.00</td>\n",
       "      <td>Fri</td>\n",
       "      <td>5</td>\n",
       "      <td>19</td>\n",
       "      <td>Aug</td>\n",
       "      <td>08</td>\n",
       "      <td>2011</td>\n",
       "      <td>19:28:17 -0000</td>\n",
       "      <td>2011-08-19</td>\n",
       "    </tr>\n",
       "    <tr>\n",
       "      <th>1</th>\n",
       "      <td>126581</td>\n",
       "      <td>Educational Online Trading Card Game</td>\n",
       "      <td>http://www.kickstarter.com/projects/972789543/...</td>\n",
       "      <td>Games</td>\n",
       "      <td>Board &amp; Card Games</td>\n",
       "      <td>Maplewood, NJ</td>\n",
       "      <td>failed</td>\n",
       "      <td>4000.0</td>\n",
       "      <td>20.0</td>\n",
       "      <td>0.005000</td>\n",
       "      <td>...</td>\n",
       "      <td>0</td>\n",
       "      <td>47.18</td>\n",
       "      <td>Mon</td>\n",
       "      <td>1</td>\n",
       "      <td>02</td>\n",
       "      <td>Aug</td>\n",
       "      <td>08</td>\n",
       "      <td>2010</td>\n",
       "      <td>03:59:00 -0000</td>\n",
       "      <td>2010-08-02</td>\n",
       "    </tr>\n",
       "    <tr>\n",
       "      <th>2</th>\n",
       "      <td>138119</td>\n",
       "      <td>STRUM</td>\n",
       "      <td>http://www.kickstarter.com/projects/185476022/...</td>\n",
       "      <td>Film &amp; Video</td>\n",
       "      <td>Animation</td>\n",
       "      <td>Los Angeles, CA</td>\n",
       "      <td>live</td>\n",
       "      <td>20000.0</td>\n",
       "      <td>56.0</td>\n",
       "      <td>0.002800</td>\n",
       "      <td>...</td>\n",
       "      <td>0</td>\n",
       "      <td>28.00</td>\n",
       "      <td>Fri</td>\n",
       "      <td>5</td>\n",
       "      <td>08</td>\n",
       "      <td>Jun</td>\n",
       "      <td>06</td>\n",
       "      <td>2012</td>\n",
       "      <td>00:00:31 -0000</td>\n",
       "      <td>2012-06-08</td>\n",
       "    </tr>\n",
       "  </tbody>\n",
       "</table>\n",
       "<p>3 rows × 25 columns</p>\n",
       "</div>"
      ],
      "text/plain": [
       "   project id                                  name  \\\n",
       "0       39409                 WHILE THE TREES SLEEP   \n",
       "1      126581  Educational Online Trading Card Game   \n",
       "2      138119                                 STRUM   \n",
       "\n",
       "                                                 url      category  \\\n",
       "0  http://www.kickstarter.com/projects/emiliesaba...  Film & Video   \n",
       "1  http://www.kickstarter.com/projects/972789543/...         Games   \n",
       "2  http://www.kickstarter.com/projects/185476022/...  Film & Video   \n",
       "\n",
       "          subcategory         location      status     goal  pledged  \\\n",
       "0          Short Film     Columbia, MO  successful  10500.0  11545.0   \n",
       "1  Board & Card Games    Maplewood, NJ      failed   4000.0     20.0   \n",
       "2           Animation  Los Angeles, CA        live  20000.0     56.0   \n",
       "\n",
       "   funded percentage    ...      comments duration  weekday weekday_nr  \\\n",
       "0           1.099524    ...             2    30.00      Fri          5   \n",
       "1           0.005000    ...             0    47.18      Mon          1   \n",
       "2           0.002800    ...             0    28.00      Fri          5   \n",
       "\n",
       "   nr_in_month  month  month_nr  year            time       date  \n",
       "0           19    Aug        08  2011  19:28:17 -0000 2011-08-19  \n",
       "1           02    Aug        08  2010  03:59:00 -0000 2010-08-02  \n",
       "2           08    Jun        06  2012  00:00:31 -0000 2012-06-08  \n",
       "\n",
       "[3 rows x 25 columns]"
      ]
     },
     "execution_count": 178,
     "metadata": {},
     "output_type": "execute_result"
    }
   ],
   "source": [
    "### get correct order of df\n",
    "data = data[['project id', 'name', 'url', 'category', 'subcategory', 'location', 'status', 'goal', 'pledged', \n",
    "    'funded percentage', 'backers', 'funded date', 'levels', 'reward levels', 'updates', 'comments', 'duration', \n",
    "    'weekday', 'weekday_nr', 'nr_in_month', 'month', 'month_nr', 'year', 'time', 'date']]\n",
    "\n",
    "data.head(3)"
   ]
  },
  {
   "cell_type": "code",
   "execution_count": 183,
   "metadata": {},
   "outputs": [],
   "source": [
    "# turn to right format\n",
    "data['nr_in_month'] = pd.to_numeric(data['nr_in_month'])\n",
    "data['year'] = pd.to_numeric(data['year'])\n",
    "data['month_nr'] = pd.to_numeric(data['month_nr'])"
   ]
  },
  {
   "cell_type": "code",
   "execution_count": 190,
   "metadata": {},
   "outputs": [],
   "source": [
    "# remove dollar signs\n",
    "data['reward levels'] = data['reward levels'].str.replace('$', '', regex=True)"
   ]
  },
  {
   "cell_type": "code",
   "execution_count": null,
   "metadata": {},
   "outputs": [],
   "source": [
    "# need to split into differnt cells if I'm using"
   ]
  },
  {
   "cell_type": "code",
   "execution_count": 191,
   "metadata": {},
   "outputs": [
    {
     "name": "stdout",
     "output_type": "stream",
     "text": [
      "<class 'pandas.core.frame.DataFrame'>\n",
      "RangeIndex: 45957 entries, 0 to 45956\n",
      "Data columns (total 25 columns):\n",
      "project id           45957 non-null int64\n",
      "name                 45957 non-null object\n",
      "url                  45957 non-null object\n",
      "category             45957 non-null object\n",
      "subcategory          45957 non-null object\n",
      "location             44635 non-null object\n",
      "status               45957 non-null object\n",
      "goal                 45957 non-null float64\n",
      "pledged              45945 non-null float64\n",
      "funded percentage    45957 non-null float64\n",
      "backers              45957 non-null int64\n",
      "funded date          45957 non-null object\n",
      "levels               45957 non-null int64\n",
      "reward levels        45898 non-null object\n",
      "updates              45957 non-null int64\n",
      "comments             45957 non-null int64\n",
      "duration             45957 non-null float64\n",
      "weekday              45957 non-null object\n",
      "weekday_nr           45957 non-null int64\n",
      "nr_in_month          45957 non-null int64\n",
      "month                45957 non-null object\n",
      "month_nr             45957 non-null int64\n",
      "year                 45957 non-null int64\n",
      "time                 45957 non-null object\n",
      "date                 45957 non-null datetime64[ns]\n",
      "dtypes: datetime64[ns](1), float64(4), int64(9), object(11)\n",
      "memory usage: 8.8+ MB\n"
     ]
    }
   ],
   "source": [
    "data.info()"
   ]
  },
  {
   "cell_type": "markdown",
   "metadata": {
    "collapsed": true
   },
   "source": [
    "### name column: Turn all letters to lower case"
   ]
  },
  {
   "cell_type": "code",
   "execution_count": 192,
   "metadata": {},
   "outputs": [
    {
     "data": {
      "text/html": [
       "<div>\n",
       "<style scoped>\n",
       "    .dataframe tbody tr th:only-of-type {\n",
       "        vertical-align: middle;\n",
       "    }\n",
       "\n",
       "    .dataframe tbody tr th {\n",
       "        vertical-align: top;\n",
       "    }\n",
       "\n",
       "    .dataframe thead th {\n",
       "        text-align: right;\n",
       "    }\n",
       "</style>\n",
       "<table border=\"1\" class=\"dataframe\">\n",
       "  <thead>\n",
       "    <tr style=\"text-align: right;\">\n",
       "      <th></th>\n",
       "      <th>project id</th>\n",
       "      <th>name</th>\n",
       "      <th>url</th>\n",
       "      <th>category</th>\n",
       "      <th>subcategory</th>\n",
       "      <th>location</th>\n",
       "      <th>status</th>\n",
       "      <th>goal</th>\n",
       "      <th>pledged</th>\n",
       "      <th>funded percentage</th>\n",
       "      <th>...</th>\n",
       "      <th>comments</th>\n",
       "      <th>duration</th>\n",
       "      <th>weekday</th>\n",
       "      <th>weekday_nr</th>\n",
       "      <th>nr_in_month</th>\n",
       "      <th>month</th>\n",
       "      <th>month_nr</th>\n",
       "      <th>year</th>\n",
       "      <th>time</th>\n",
       "      <th>date</th>\n",
       "    </tr>\n",
       "  </thead>\n",
       "  <tbody>\n",
       "    <tr>\n",
       "      <th>0</th>\n",
       "      <td>39409</td>\n",
       "      <td>while the trees sleep</td>\n",
       "      <td>http://www.kickstarter.com/projects/emiliesaba...</td>\n",
       "      <td>Film &amp; Video</td>\n",
       "      <td>Short Film</td>\n",
       "      <td>Columbia, MO</td>\n",
       "      <td>successful</td>\n",
       "      <td>10500.0</td>\n",
       "      <td>11545.0</td>\n",
       "      <td>1.099524</td>\n",
       "      <td>...</td>\n",
       "      <td>2</td>\n",
       "      <td>30.00</td>\n",
       "      <td>Fri</td>\n",
       "      <td>5</td>\n",
       "      <td>19</td>\n",
       "      <td>Aug</td>\n",
       "      <td>8</td>\n",
       "      <td>2011</td>\n",
       "      <td>19:28:17 -0000</td>\n",
       "      <td>2011-08-19</td>\n",
       "    </tr>\n",
       "    <tr>\n",
       "      <th>1</th>\n",
       "      <td>126581</td>\n",
       "      <td>educational online trading card game</td>\n",
       "      <td>http://www.kickstarter.com/projects/972789543/...</td>\n",
       "      <td>Games</td>\n",
       "      <td>Board &amp; Card Games</td>\n",
       "      <td>Maplewood, NJ</td>\n",
       "      <td>failed</td>\n",
       "      <td>4000.0</td>\n",
       "      <td>20.0</td>\n",
       "      <td>0.005000</td>\n",
       "      <td>...</td>\n",
       "      <td>0</td>\n",
       "      <td>47.18</td>\n",
       "      <td>Mon</td>\n",
       "      <td>1</td>\n",
       "      <td>2</td>\n",
       "      <td>Aug</td>\n",
       "      <td>8</td>\n",
       "      <td>2010</td>\n",
       "      <td>03:59:00 -0000</td>\n",
       "      <td>2010-08-02</td>\n",
       "    </tr>\n",
       "    <tr>\n",
       "      <th>2</th>\n",
       "      <td>138119</td>\n",
       "      <td>strum</td>\n",
       "      <td>http://www.kickstarter.com/projects/185476022/...</td>\n",
       "      <td>Film &amp; Video</td>\n",
       "      <td>Animation</td>\n",
       "      <td>Los Angeles, CA</td>\n",
       "      <td>live</td>\n",
       "      <td>20000.0</td>\n",
       "      <td>56.0</td>\n",
       "      <td>0.002800</td>\n",
       "      <td>...</td>\n",
       "      <td>0</td>\n",
       "      <td>28.00</td>\n",
       "      <td>Fri</td>\n",
       "      <td>5</td>\n",
       "      <td>8</td>\n",
       "      <td>Jun</td>\n",
       "      <td>6</td>\n",
       "      <td>2012</td>\n",
       "      <td>00:00:31 -0000</td>\n",
       "      <td>2012-06-08</td>\n",
       "    </tr>\n",
       "  </tbody>\n",
       "</table>\n",
       "<p>3 rows × 25 columns</p>\n",
       "</div>"
      ],
      "text/plain": [
       "   project id                                  name  \\\n",
       "0       39409                 while the trees sleep   \n",
       "1      126581  educational online trading card game   \n",
       "2      138119                                 strum   \n",
       "\n",
       "                                                 url      category  \\\n",
       "0  http://www.kickstarter.com/projects/emiliesaba...  Film & Video   \n",
       "1  http://www.kickstarter.com/projects/972789543/...         Games   \n",
       "2  http://www.kickstarter.com/projects/185476022/...  Film & Video   \n",
       "\n",
       "          subcategory         location      status     goal  pledged  \\\n",
       "0          Short Film     Columbia, MO  successful  10500.0  11545.0   \n",
       "1  Board & Card Games    Maplewood, NJ      failed   4000.0     20.0   \n",
       "2           Animation  Los Angeles, CA        live  20000.0     56.0   \n",
       "\n",
       "   funded percentage    ...      comments duration  weekday weekday_nr  \\\n",
       "0           1.099524    ...             2    30.00      Fri          5   \n",
       "1           0.005000    ...             0    47.18      Mon          1   \n",
       "2           0.002800    ...             0    28.00      Fri          5   \n",
       "\n",
       "   nr_in_month  month  month_nr  year            time       date  \n",
       "0           19    Aug         8  2011  19:28:17 -0000 2011-08-19  \n",
       "1            2    Aug         8  2010  03:59:00 -0000 2010-08-02  \n",
       "2            8    Jun         6  2012  00:00:31 -0000 2012-06-08  \n",
       "\n",
       "[3 rows x 25 columns]"
      ]
     },
     "execution_count": 192,
     "metadata": {},
     "output_type": "execute_result"
    }
   ],
   "source": [
    "data['name'] = data['name'].str.lower()\n",
    "data.head(3)"
   ]
  },
  {
   "cell_type": "code",
   "execution_count": null,
   "metadata": {
    "collapsed": true
   },
   "outputs": [],
   "source": []
  },
  {
   "cell_type": "markdown",
   "metadata": {
    "collapsed": true
   },
   "source": [
    "## Was the initial findings in themself correct?"
   ]
  },
  {
   "cell_type": "markdown",
   "metadata": {},
   "source": [
    "#### Best lenght for compaign?\n",
    "more then $6,000 - 35 days\n",
    "\n",
    "less then $6,000 - a shorter duration is better"
   ]
  },
  {
   "cell_type": "markdown",
   "metadata": {},
   "source": [
    "#### Different pledge goals at low and high amonts\n",
    "But for both intervals a low pledge seem to me more successful. (No surprise)"
   ]
  },
  {
   "cell_type": "markdown",
   "metadata": {},
   "source": [
    "#### Some types of campaign are more successful than others\n",
    "<u>Category</u>\n",
    "\n",
    "Dance, theater, music (most successfull)\n",
    "\n",
    "Fashion, publishing, technology (fashion is by far least successfull)\n",
    "\n",
    "\n",
    "<u>Sub categorys of the Music category</u>\n",
    "\n",
    "Indie rock, country & folk, jazz, Classical music (most successfull)\n",
    "\n",
    "Hip hop, electronic music, world music (Hip hop is by far least successfull)\n",
    "\n",
    "\n",
    "#### When to launch?\n",
    "\n",
    "Month: February\n",
    "\n",
    "Day: Monday\n",
    "\n",
    "Time: 9:00 am (EST)\n",
    "\n",
    "(The variables was studied individually, this means that a Monday in February at 9:00 am might not necessarily be the best time.)\n",
    "\n",
    "#### More comments, more success\n",
    "\n",
    "Dubble the successrate with 1-2 comments\n",
    "\n",
    "Tripple the successrate with 10 comments"
   ]
  },
  {
   "cell_type": "code",
   "execution_count": null,
   "metadata": {},
   "outputs": [],
   "source": []
  }
 ],
 "metadata": {
  "kernelspec": {
   "display_name": "Python 3",
   "language": "python",
   "name": "python3"
  },
  "language_info": {
   "codemirror_mode": {
    "name": "ipython",
    "version": 3
   },
   "file_extension": ".py",
   "mimetype": "text/x-python",
   "name": "python",
   "nbconvert_exporter": "python",
   "pygments_lexer": "ipython3",
   "version": "3.7.1"
  }
 },
 "nbformat": 4,
 "nbformat_minor": 2
}
